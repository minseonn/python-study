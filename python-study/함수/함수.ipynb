{
 "cells": [
  {
   "cell_type": "code",
   "execution_count": 5,
   "id": "fd312e80",
   "metadata": {},
   "outputs": [
    {
     "name": "stdout",
     "output_type": "stream",
     "text": [
      "안녕~ 철수아, 잘지내지\n",
      "안녕~ 민지아, 잘가\n",
      "안녕~ 길동아, 이리와\n"
     ]
    }
   ],
   "source": [
    "#이름을 인자로 받고 \"안녕~ 00아, 0000\"\n",
    "def greet(name, msg = \"이리와\"):\n",
    "    print(f\"안녕~ {name}아, {msg}\")\n",
    "    \n",
    "greet(\"철수\", \"잘지내지\")\n",
    "greet(\"민지\", \"잘가\")\n",
    "greet(\"길동\")"
   ]
  },
  {
   "cell_type": "code",
   "execution_count": 8,
   "id": "0f26aa37",
   "metadata": {},
   "outputs": [
    {
     "name": "stdout",
     "output_type": "stream",
     "text": [
      "2 4\n"
     ]
    }
   ],
   "source": [
    "# 두개의 값을 리턴하는 함수\n",
    "def get_data(x,y):\n",
    "    return x*2,y*2\n",
    "a,b = get_data(1,2)\n",
    "print(a,b)"
   ]
  },
  {
   "cell_type": "code",
   "execution_count": 10,
   "id": "87e03084",
   "metadata": {},
   "outputs": [],
   "source": [
    "# 나중에 작성할 함수, 미리 선언\n",
    "\n",
    "# TODO 회사방침\n",
    "def signup():\n",
    "    #카카오\n",
    "    #구글\n",
    "    #\n",
    "    pass"
   ]
  },
  {
   "cell_type": "code",
   "execution_count": 15,
   "id": "a460cf38",
   "metadata": {},
   "outputs": [
    {
     "data": {
      "text/plain": [
       "28.26"
      ]
     },
     "execution_count": 15,
     "metadata": {},
     "output_type": "execute_result"
    }
   ],
   "source": [
    "# 함수에서 다른 함수를 사용하기\n",
    "\n",
    "\n",
    "def get_area(radius):\n",
    "    # area = 3.14* radius **2\n",
    "    area = 3.14 * square(radius)\n",
    "    return area\n",
    "\n",
    "\n",
    "def square(x): #거듭제곱하는 함수\n",
    "    return x **2\n",
    "\n",
    "get_area(3) # 반지름이 3인 원의 면적구하기\n"
   ]
  },
  {
   "cell_type": "code",
   "execution_count": 13,
   "id": "ae13834b",
   "metadata": {},
   "outputs": [
    {
     "data": {
      "text/plain": [
       "25"
      ]
     },
     "execution_count": 13,
     "metadata": {},
     "output_type": "execute_result"
    }
   ],
   "source": [
    "square(5)"
   ]
  },
  {
   "cell_type": "code",
   "execution_count": 20,
   "id": "8a43c107",
   "metadata": {},
   "outputs": [
    {
     "data": {
      "text/plain": [
       "6"
      ]
     },
     "execution_count": 20,
     "metadata": {},
     "output_type": "execute_result"
    }
   ],
   "source": [
    "# 함수인자 여러개 받기\n",
    "def get_plus(x,y,z):\n",
    "    return x+y+z\n",
    "\n",
    "get_plus(1,2,3)\n",
    "get_plus(x=1,y=2,z=3)\n",
    "get_plus(1,y=2,z=3)\n",
    "# get_plus(x=1,2,3) 키워드 인자는 위치인자 뒤에 \"무조건\" 와야한다."
   ]
  },
  {
   "cell_type": "code",
   "execution_count": 21,
   "id": "802b62d7",
   "metadata": {},
   "outputs": [
    {
     "name": "stdout",
     "output_type": "stream",
     "text": [
      "(1, 2, 3, 4, 5, 6, 7, 8, 9, 10) <class 'tuple'>\n"
     ]
    }
   ],
   "source": [
    "#가변인수 \n",
    "def all_print(*args): #왜 튜플로 나와?\n",
    "    print(args, type(args))\n",
    "all_print(1,2,3,4,5,6,7,8,9,10)"
   ]
  },
  {
   "cell_type": "code",
   "execution_count": 23,
   "id": "89bd565d",
   "metadata": {},
   "outputs": [
    {
     "name": "stdout",
     "output_type": "stream",
     "text": [
      "{'a': 1, 'b': 2, 'c': 3, 'name': '철수', 'type': ['a', 'b']} <class 'dict'>\n"
     ]
    }
   ],
   "source": [
    "def all_print2(**kwargs) : #키워드 인수 정의할 때는 kwargs\n",
    "    print(kwargs, type(kwargs)) #이건 딕셔너리로 나온대\n",
    "\n",
    "all_print2(a=1,b=2,c=3, name = \"철수\", type=[\"a\",\"b\"])"
   ]
  },
  {
   "cell_type": "code",
   "execution_count": 32,
   "id": "35de18cd",
   "metadata": {},
   "outputs": [
    {
     "data": {
      "text/plain": [
       "120"
      ]
     },
     "execution_count": 32,
     "metadata": {},
     "output_type": "execute_result"
    }
   ],
   "source": [
    "#재귀호출\n",
    "#팩토리얼\n",
    "'''\n",
    "팩토리얼\n",
    "5! = 5*4*3*2*1\n",
    "4! = 4*3*2*1\n",
    "17! = 17*16 ...*1\n",
    "\n",
    "5! = 5 *4!\n",
    "    =5 * 4 * 3!\n",
    "    = 60 * 2!\n",
    "    = 120 *1!\n",
    "    =120\n",
    "'''\n",
    "\n",
    "def factarial(n) :\n",
    "\n",
    "    if n == 0 :\n",
    "        return 1\n",
    "    else :\n",
    "        return n * factarial(n-1)\n",
    "\n",
    "factarial(5)"
   ]
  },
  {
   "cell_type": "code",
   "execution_count": 41,
   "id": "f0b34c32",
   "metadata": {},
   "outputs": [
    {
     "name": "stdout",
     "output_type": "stream",
     "text": [
      "5\n",
      "2\n",
      "0\n"
     ]
    },
    {
     "data": {
      "text/plain": [
       "False"
      ]
     },
     "execution_count": 41,
     "metadata": {},
     "output_type": "execute_result"
    }
   ],
   "source": [
    "#바이너리 서치 \n",
    "# 바이너리 서치의 조건 : 리스트가 오름차순으로 정렬되어 있어야 한다. \n",
    "# 리스트가 있고, 리스트 안에 내가 찾고자 하는 값이 있는지 탐색을 하는 알고리즘\n",
    "#리스트의 중간을 찾아보고 중간값이 내가 찾고자 하는 값보다 크면 슬라이싱해서 왼쪽리스트를 재귀해서  다시 진행 [:중간인덱스]\n",
    "#중간값이 내가 찾고자 하는 값보다 작으면 슬라이싱으로 [중간값인덱스:]\n",
    "\n",
    "#[1,2,3,4,5,6,7,8,9,10], 7\n",
    "\n",
    "\n",
    "\n",
    "#어떤 리스트에서 어떤 값을 찾을 건지 \n",
    "\n",
    "def binary_search(arr, target):\n",
    "    #중간값\n",
    "    if not arr :\n",
    "        return False\n",
    "    mid = len(arr)  //2\n",
    "    print(mid)\n",
    "    #크기비교\n",
    "    mid_value = arr[mid]\n",
    "    \n",
    "    if mid_value == target:\n",
    "        return True\n",
    "    elif mid_value > target:\n",
    "        #왼쪽 인덱스를 바이너리 서치 \n",
    "        return binary_search(arr[:mid], target)\n",
    "    else:\n",
    "        return binary_search(arr[mid +1:], target)\n",
    "    \n",
    "binary_search([1,2,3,4,5,6,7,8,9,10],13) #모르겠는데\n"
   ]
  },
  {
   "cell_type": "code",
   "execution_count": 42,
   "id": "0ce9a754",
   "metadata": {},
   "outputs": [
    {
     "name": "stdout",
     "output_type": "stream",
     "text": [
      "100\n",
      "100\n"
     ]
    }
   ],
   "source": [
    "gx = 100\n",
    "def my_func():\n",
    "    print(gx)\n",
    "    \n",
    "my_func()\n",
    "print(gx)"
   ]
  },
  {
   "cell_type": "code",
   "execution_count": 43,
   "id": "1308cb06",
   "metadata": {},
   "outputs": [
    {
     "name": "stdout",
     "output_type": "stream",
     "text": [
      "200\n",
      "100\n"
     ]
    }
   ],
   "source": [
    "gx2 = 100\n",
    "g2 = 200\n",
    "def my_func2():\n",
    "    gx2 = g2 #함수 내에서 변수 값을 저장하면 지역변수가 된다. \n",
    "    print(gx2) # 200\n",
    "    \n",
    "my_func2()\n",
    "print(gx2) #100"
   ]
  },
  {
   "cell_type": "code",
   "execution_count": 45,
   "id": "6a35608c",
   "metadata": {},
   "outputs": [
    {
     "name": "stdout",
     "output_type": "stream",
     "text": [
      "200\n",
      "200\n"
     ]
    }
   ],
   "source": [
    "gx3 = 100\n",
    "g3 = 200\n",
    "def my_func3():\n",
    "    global gx3\n",
    "    gx3 = g3 #함수 내에서 변수 값을 저장하면 지역변수가 된다. \n",
    "    print(gx3) # 200\n",
    "    \n",
    "my_func3()\n",
    "print(gx3) #200"
   ]
  },
  {
   "cell_type": "markdown",
   "id": "9e98cfe0",
   "metadata": {},
   "source": [
    "## Lambda\n",
    "\n",
    "- 예약어로 def와 동일하다 \n",
    "- 함수를 간단하게 한줄로 표현할 때 사용\n"
   ]
  },
  {
   "cell_type": "code",
   "execution_count": 46,
   "id": "95a8d038",
   "metadata": {},
   "outputs": [
    {
     "data": {
      "text/plain": [
       "3"
      ]
     },
     "execution_count": 46,
     "metadata": {},
     "output_type": "execute_result"
    }
   ],
   "source": [
    "add = lambda x,y: x+y\n",
    "    \n",
    "#def add(x,y) :\n",
    "#    return x+y\n",
    "\n",
    "add(1,2)"
   ]
  },
  {
   "cell_type": "code",
   "execution_count": 47,
   "id": "a679f618",
   "metadata": {},
   "outputs": [
    {
     "data": {
      "text/plain": [
       "10"
      ]
     },
     "execution_count": 47,
     "metadata": {},
     "output_type": "execute_result"
    }
   ],
   "source": [
    "#길이 구하는 함수\n",
    "cal_len = lambda s: len(s)\n",
    "\n",
    "cal_len(\"hellohello\")"
   ]
  },
  {
   "cell_type": "code",
   "execution_count": 49,
   "id": "67e12c97",
   "metadata": {},
   "outputs": [
    {
     "data": {
      "text/plain": [
       "[1, 2, 3, 4, 5, 6, 7, 1, 2, 3, 4, 5, 6, 7]"
      ]
     },
     "execution_count": 49,
     "metadata": {},
     "output_type": "execute_result"
    }
   ],
   "source": [
    "#숫자를 리스트 형태로 넣어서 리스트를 곱하는 함수\n",
    "mul_list = lambda l : l *2\n",
    "mul_list([1,2,3,4,5,6,7])"
   ]
  },
  {
   "cell_type": "code",
   "execution_count": null,
   "id": "88cde591",
   "metadata": {},
   "outputs": [],
   "source": []
  }
 ],
 "metadata": {
  "kernelspec": {
   "display_name": "Python 3 (ipykernel)",
   "language": "python",
   "name": "python3"
  },
  "language_info": {
   "codemirror_mode": {
    "name": "ipython",
    "version": 3
   },
   "file_extension": ".py",
   "mimetype": "text/x-python",
   "name": "python",
   "nbconvert_exporter": "python",
   "pygments_lexer": "ipython3",
   "version": "3.11.3"
  }
 },
 "nbformat": 4,
 "nbformat_minor": 5
}
