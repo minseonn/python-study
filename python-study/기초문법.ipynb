{
 "cells": [
  {
   "cell_type": "code",
   "execution_count": 1,
   "id": "c0d16796",
   "metadata": {},
   "outputs": [],
   "source": [
    "num1 = 10\n",
    "nums=2= 3"
   ]
  },
  {
   "cell_type": "code",
   "execution_count": 7,
   "id": "6cb4c44e",
   "metadata": {},
   "outputs": [],
   "source": [
    "import math"
   ]
  },
  {
   "cell_type": "code",
   "execution_count": 8,
   "id": "0043792c",
   "metadata": {},
   "outputs": [],
   "source": [
    "math.sin(math.radians(30))"
   ]
  },
  {
   "cell_type": "code",
   "execution_count": 6,
   "id": "833b074b",
   "metadata": {},
   "outputs": [],
   "source": [
    "math.ceil(a)\n"
   ]
  },
  {
   "cell_type": "code",
   "execution_count": null,
   "id": "22e55bf4",
   "metadata": {},
   "outputs": [],
   "source": []
  },
  {
   "cell_type": "code",
   "execution_count": null,
   "id": "ad71c807",
   "metadata": {},
   "outputs": [],
   "source": []
  },
  {
   "cell_type": "code",
   "execution_count": 9,
   "id": "0007853d",
   "metadata": {},
   "outputs": [],
   "source": [
    "math.trunc(a)"
   ]
  },
  {
   "cell_type": "code",
   "execution_count": null,
   "id": "75368594",
   "metadata": {},
   "outputs": [],
   "source": []
  }
 ],
 "metadata": {
  "kernelspec": {
   "display_name": "Python 3 (ipykernel)",
   "language": "python",
   "name": "python3"
  },
  "language_info": {
   "codemirror_mode": {
    "name": "ipython",
    "version": 3
   },
   "file_extension": ".py",
   "mimetype": "text/x-python",
   "name": "python",
   "nbconvert_exporter": "python",
   "pygments_lexer": "ipython3",
   "version": "3.11.3"
  }
 },
 "nbformat": 4,
 "nbformat_minor": 5
}
