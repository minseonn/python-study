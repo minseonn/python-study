{
 "cells": [
  {
   "cell_type": "code",
   "execution_count": 16,
   "id": "4ab75398",
   "metadata": {},
   "outputs": [],
   "source": [
    "import math"
   ]
  },
  {
   "cell_type": "code",
   "execution_count": 17,
   "id": "b26d11ee",
   "metadata": {},
   "outputs": [
    {
     "data": {
      "text/plain": [
       "0.49999999999999994"
      ]
     },
     "execution_count": 17,
     "metadata": {},
     "output_type": "execute_result"
    }
   ],
   "source": [
    "math.sin(math.radians(30))"
   ]
  },
  {
   "cell_type": "code",
   "execution_count": 18,
   "id": "8b7bef97",
   "metadata": {},
   "outputs": [],
   "source": [
    "a = 3.2"
   ]
  },
  {
   "cell_type": "code",
   "execution_count": 19,
   "id": "04806d9c",
   "metadata": {},
   "outputs": [
    {
     "data": {
      "text/plain": [
       "4"
      ]
     },
     "execution_count": 19,
     "metadata": {},
     "output_type": "execute_result"
    }
   ],
   "source": [
    "math.ceil(a)"
   ]
  },
  {
   "cell_type": "code",
   "execution_count": 20,
   "id": "3c15ddd4",
   "metadata": {},
   "outputs": [
    {
     "data": {
      "text/plain": [
       "3"
      ]
     },
     "execution_count": 20,
     "metadata": {},
     "output_type": "execute_result"
    }
   ],
   "source": [
    "math.trunc(a)"
   ]
  },
  {
   "cell_type": "code",
   "execution_count": 21,
   "id": "228db223",
   "metadata": {},
   "outputs": [],
   "source": [
    "num1 = 10 \n",
    "num2 = 3"
   ]
  },
  {
   "cell_type": "code",
   "execution_count": 22,
   "id": "a9b6b72e",
   "metadata": {},
   "outputs": [
    {
     "data": {
      "text/plain": [
       "13"
      ]
     },
     "execution_count": 22,
     "metadata": {},
     "output_type": "execute_result"
    }
   ],
   "source": [
    "num1 + num2"
   ]
  },
  {
   "cell_type": "code",
   "execution_count": 23,
   "id": "158adfeb",
   "metadata": {},
   "outputs": [
    {
     "data": {
      "text/plain": [
       "7"
      ]
     },
     "execution_count": 23,
     "metadata": {},
     "output_type": "execute_result"
    }
   ],
   "source": [
    "num1 - num2"
   ]
  },
  {
   "cell_type": "code",
   "execution_count": 24,
   "id": "30e06e21",
   "metadata": {},
   "outputs": [
    {
     "data": {
      "text/plain": [
       "30"
      ]
     },
     "execution_count": 24,
     "metadata": {},
     "output_type": "execute_result"
    }
   ],
   "source": [
    "num1 * num2"
   ]
  },
  {
   "cell_type": "code",
   "execution_count": 25,
   "id": "3d1a7a11",
   "metadata": {},
   "outputs": [
    {
     "data": {
      "text/plain": [
       "1000"
      ]
     },
     "execution_count": 25,
     "metadata": {},
     "output_type": "execute_result"
    }
   ],
   "source": [
    "num1 ** num2"
   ]
  },
  {
   "cell_type": "code",
   "execution_count": 26,
   "id": "8339fcc0",
   "metadata": {},
   "outputs": [
    {
     "data": {
      "text/plain": [
       "1"
      ]
     },
     "execution_count": 26,
     "metadata": {},
     "output_type": "execute_result"
    }
   ],
   "source": [
    "num1 % num2"
   ]
  },
  {
   "cell_type": "code",
   "execution_count": 27,
   "id": "e81b8f6a",
   "metadata": {},
   "outputs": [
    {
     "data": {
      "text/plain": [
       "3.3333333333333335"
      ]
     },
     "execution_count": 27,
     "metadata": {},
     "output_type": "execute_result"
    }
   ],
   "source": [
    "num1 / num2"
   ]
  },
  {
   "cell_type": "code",
   "execution_count": 28,
   "id": "6192ebed",
   "metadata": {},
   "outputs": [
    {
     "data": {
      "text/plain": [
       "3"
      ]
     },
     "execution_count": 28,
     "metadata": {},
     "output_type": "execute_result"
    }
   ],
   "source": [
    "num1 // num2"
   ]
  },
  {
   "cell_type": "code",
   "execution_count": 29,
   "id": "352c2708",
   "metadata": {},
   "outputs": [
    {
     "name": "stdout",
     "output_type": "stream",
     "text": [
      "Hello world!!\n"
     ]
    }
   ],
   "source": [
    "print(\"Hello world!!\")"
   ]
  },
  {
   "cell_type": "code",
   "execution_count": 30,
   "id": "8d61e999",
   "metadata": {},
   "outputs": [
    {
     "ename": "SyntaxError",
     "evalue": "invalid syntax. Perhaps you forgot a comma? (2497053111.py, line 1)",
     "output_type": "error",
     "traceback": [
      "\u001b[1;36m  Cell \u001b[1;32mIn[30], line 1\u001b[1;36m\u001b[0m\n\u001b[1;33m    print(hello world)\u001b[0m\n\u001b[1;37m          ^\u001b[0m\n\u001b[1;31mSyntaxError\u001b[0m\u001b[1;31m:\u001b[0m invalid syntax. Perhaps you forgot a comma?\n"
     ]
    }
   ],
   "source": [
    "print(hello world)"
   ]
  },
  {
   "cell_type": "code",
   "execution_count": 31,
   "id": "1dfda779",
   "metadata": {},
   "outputs": [
    {
     "name": "stdout",
     "output_type": "stream",
     "text": [
      "100\n"
     ]
    }
   ],
   "source": [
    "a = 100\n",
    "print(a)"
   ]
  },
  {
   "cell_type": "code",
   "execution_count": 32,
   "id": "849b0a2f",
   "metadata": {},
   "outputs": [
    {
     "name": "stdout",
     "output_type": "stream",
     "text": [
      "hello world\n"
     ]
    }
   ],
   "source": [
    "b = \"hello world\"\n",
    "print(b)"
   ]
  },
  {
   "cell_type": "code",
   "execution_count": 33,
   "id": "cc854bbc",
   "metadata": {},
   "outputs": [
    {
     "name": "stdout",
     "output_type": "stream",
     "text": [
      "\n",
      "git을 $ 다음에 입력하면 그와 관련된 명령어들이 나오면 제대로 설치가 된 것.\n",
      "\n",
      "(MAC OS는 경로가 조금 다르지만 명령어는 똑같다. 터미널에 git이 있을 것)\n",
      "\n",
      "(팀별 작업을 할 때 내 작업을 저장해야 하는 곳을 로컬 저장소라고 한다. 2교시에는 로컬저장소를 배울 것)\n",
      "\n"
     ]
    }
   ],
   "source": [
    "print(\"\"\"\n",
    "git을 $ 다음에 입력하면 그와 관련된 명령어들이 나오면 제대로 설치가 된 것.\n",
    "\n",
    "(MAC OS는 경로가 조금 다르지만 명령어는 똑같다. 터미널에 git이 있을 것)\n",
    "\n",
    "(팀별 작업을 할 때 내 작업을 저장해야 하는 곳을 로컬 저장소라고 한다. 2교시에는 로컬저장소를 배울 것)\n",
    "\"\"\")"
   ]
  },
  {
   "cell_type": "code",
   "execution_count": 34,
   "id": "ec81e078",
   "metadata": {},
   "outputs": [
    {
     "name": "stdout",
     "output_type": "stream",
     "text": [
      "\n",
      "한동훈 법무부장관의 개인정보 유출 의혹과 관련해 경찰이 30일 MBC 기자와 보도국에 대한 압수수색을 진행한 것에 대해, 최강욱 더불어민주당 의원과 '문재인 청와대' 행정관들이 \"검찰권 남용의 전형적인 모습\"이라고 비판하고 나섰다.\n",
      "\n",
      "최강욱 의원과 문재인 정부 청와대 민정수석실에서 일한 황현선·윤재관·박성오 전 선임행정관은 31일 국회 소통관에서 기자회견을 열고, 조국 전 장관의 딸인 조민씨의 개인정보 유출 사건과 이번 압수수색을 비교하며 검찰을 겨냥했다.\n",
      "\n",
      "\n"
     ]
    }
   ],
   "source": [
    "print(\"\"\"\n",
    "한동훈 법무부장관의 개인정보 유출 의혹과 관련해 경찰이 30일 MBC 기자와 보도국에 대한 압수수색을 진행한 것에 대해, 최강욱 더불어민주당 의원과 '문재인 청와대' 행정관들이 \"검찰권 남용의 전형적인 모습\"이라고 비판하고 나섰다.\n",
    "\n",
    "최강욱 의원과 문재인 정부 청와대 민정수석실에서 일한 황현선·윤재관·박성오 전 선임행정관은 31일 국회 소통관에서 기자회견을 열고, 조국 전 장관의 딸인 조민씨의 개인정보 유출 사건과 이번 압수수색을 비교하며 검찰을 겨냥했다.\n",
    "\n",
    "\"\"\")"
   ]
  },
  {
   "cell_type": "code",
   "execution_count": 35,
   "id": "6f1389c8",
   "metadata": {},
   "outputs": [
    {
     "name": "stdout",
     "output_type": "stream",
     "text": [
      "2 + 3 =  5\n"
     ]
    }
   ],
   "source": [
    "print(\"2 + 3 = \", 2+3)"
   ]
  },
  {
   "cell_type": "code",
   "execution_count": 36,
   "id": "90dfa252",
   "metadata": {},
   "outputs": [
    {
     "name": "stdout",
     "output_type": "stream",
     "text": [
      "2*3 =  6\n"
     ]
    }
   ],
   "source": [
    "print(\"2*3 = \", 2*3)"
   ]
  },
  {
   "cell_type": "markdown",
   "id": "2e6239b0",
   "metadata": {},
   "source": [
    "### 특수 문자열\n",
    "\n",
    "- 줄바꿈 \\n\n",
    "- 탭 \\t\n",
    "- 역슬래시 \\\\\n",
    "- 큰따옴표 \\\"\n",
    "- 작은 따옴표 \\'"
   ]
  },
  {
   "cell_type": "code",
   "execution_count": 37,
   "id": "a0777c3b",
   "metadata": {},
   "outputs": [
    {
     "name": "stdout",
     "output_type": "stream",
     "text": [
      "안녕하세요.\n",
      "파이썬 공부중입니다.\n"
     ]
    }
   ],
   "source": [
    "print(\"안녕하세요.\\n파이썬 공부중입니다.\")"
   ]
  },
  {
   "cell_type": "code",
   "execution_count": 38,
   "id": "4f209786",
   "metadata": {},
   "outputs": [
    {
     "name": "stdout",
     "output_type": "stream",
     "text": [
      "안녕하세요. 나의 이름은 \"홍길동\" 입니다.\n"
     ]
    }
   ],
   "source": [
    "print(\"안녕하세요. 나의 이름은 \\\"홍길동\\\" 입니다.\")"
   ]
  },
  {
   "cell_type": "code",
   "execution_count": 39,
   "id": "303b0765",
   "metadata": {},
   "outputs": [
    {
     "name": "stdout",
     "output_type": "stream",
     "text": [
      "010 1234 5678\n"
     ]
    }
   ],
   "source": [
    "print(\"010\",\"1234\", \"5678\")"
   ]
  },
  {
   "cell_type": "code",
   "execution_count": 40,
   "id": "c8602675",
   "metadata": {},
   "outputs": [
    {
     "name": "stdout",
     "output_type": "stream",
     "text": [
      "010-1234-5678\n"
     ]
    }
   ],
   "source": [
    "print(\"010\",\"1234\", \"5678\" ,sep=\"-\")"
   ]
  },
  {
   "cell_type": "code",
   "execution_count": 41,
   "id": "cda3da96",
   "metadata": {},
   "outputs": [
    {
     "name": "stdout",
     "output_type": "stream",
     "text": [
      "Hello~world!!!"
     ]
    }
   ],
   "source": [
    "print(\"Hello\",\"world\", sep = \"~\" , end= \"!!!\")"
   ]
  },
  {
   "cell_type": "code",
   "execution_count": 42,
   "id": "14d8d789",
   "metadata": {},
   "outputs": [],
   "source": [
    "s = \"Hello world\""
   ]
  },
  {
   "cell_type": "code",
   "execution_count": 43,
   "id": "78fc7876",
   "metadata": {},
   "outputs": [
    {
     "data": {
      "text/plain": [
       "'w'"
      ]
     },
     "execution_count": 43,
     "metadata": {},
     "output_type": "execute_result"
    }
   ],
   "source": [
    "s[6]"
   ]
  },
  {
   "cell_type": "code",
   "execution_count": 44,
   "id": "e83b302e",
   "metadata": {},
   "outputs": [
    {
     "data": {
      "text/plain": [
       "11"
      ]
     },
     "execution_count": 44,
     "metadata": {},
     "output_type": "execute_result"
    }
   ],
   "source": [
    "len(s)"
   ]
  },
  {
   "cell_type": "code",
   "execution_count": 45,
   "id": "8293b8c5",
   "metadata": {},
   "outputs": [
    {
     "data": {
      "text/plain": [
       "'Hello'"
      ]
     },
     "execution_count": 45,
     "metadata": {},
     "output_type": "execute_result"
    }
   ],
   "source": [
    "s[0:5]"
   ]
  },
  {
   "cell_type": "code",
   "execution_count": 46,
   "id": "25245f6d",
   "metadata": {},
   "outputs": [
    {
     "data": {
      "text/plain": [
       "'world'"
      ]
     },
     "execution_count": 46,
     "metadata": {},
     "output_type": "execute_result"
    }
   ],
   "source": [
    "s[6:11]"
   ]
  },
  {
   "cell_type": "code",
   "execution_count": 47,
   "id": "ffbba7ba",
   "metadata": {},
   "outputs": [
    {
     "data": {
      "text/plain": [
       "'Hello world'"
      ]
     },
     "execution_count": 47,
     "metadata": {},
     "output_type": "execute_result"
    }
   ],
   "source": [
    "s"
   ]
  },
  {
   "cell_type": "code",
   "execution_count": 48,
   "id": "468a05f9",
   "metadata": {},
   "outputs": [
    {
     "data": {
      "text/plain": [
       "['Hell', ' w', 'rld']"
      ]
     },
     "execution_count": 48,
     "metadata": {},
     "output_type": "execute_result"
    }
   ],
   "source": [
    "s.split(\"o\")"
   ]
  },
  {
   "cell_type": "code",
   "execution_count": 49,
   "id": "2f607610",
   "metadata": {},
   "outputs": [
    {
     "data": {
      "text/plain": [
       "['Hello', 'world']"
      ]
     },
     "execution_count": 49,
     "metadata": {},
     "output_type": "execute_result"
    }
   ],
   "source": [
    "s.split(\" \")"
   ]
  },
  {
   "cell_type": "code",
   "execution_count": 50,
   "id": "ad5669dc",
   "metadata": {},
   "outputs": [],
   "source": [
    "s2 = \"google,naver,daum\""
   ]
  },
  {
   "cell_type": "code",
   "execution_count": 51,
   "id": "beeb22b5",
   "metadata": {},
   "outputs": [
    {
     "data": {
      "text/plain": [
       "['google', 'naver', 'daum']"
      ]
     },
     "execution_count": 51,
     "metadata": {},
     "output_type": "execute_result"
    }
   ],
   "source": [
    "s2.split(\",\")"
   ]
  },
  {
   "cell_type": "code",
   "execution_count": 52,
   "id": "5b1b9eee",
   "metadata": {},
   "outputs": [
    {
     "data": {
      "text/plain": [
       "'Hello world'"
      ]
     },
     "execution_count": 52,
     "metadata": {},
     "output_type": "execute_result"
    }
   ],
   "source": [
    "s"
   ]
  },
  {
   "cell_type": "code",
   "execution_count": 53,
   "id": "35bb6da6",
   "metadata": {},
   "outputs": [
    {
     "data": {
      "text/plain": [
       "'HELLO WORLD'"
      ]
     },
     "execution_count": 53,
     "metadata": {},
     "output_type": "execute_result"
    }
   ],
   "source": [
    "s.upper()"
   ]
  },
  {
   "cell_type": "code",
   "execution_count": 54,
   "id": "3a2033c4",
   "metadata": {},
   "outputs": [
    {
     "data": {
      "text/plain": [
       "'hello world'"
      ]
     },
     "execution_count": 54,
     "metadata": {},
     "output_type": "execute_result"
    }
   ],
   "source": [
    "s.lower()"
   ]
  },
  {
   "cell_type": "code",
   "execution_count": 55,
   "id": "fea196cd",
   "metadata": {},
   "outputs": [
    {
     "data": {
      "text/plain": [
       "'Hello world'"
      ]
     },
     "execution_count": 55,
     "metadata": {},
     "output_type": "execute_result"
    }
   ],
   "source": [
    "s.capitalize()"
   ]
  },
  {
   "cell_type": "code",
   "execution_count": 56,
   "id": "9088aa20",
   "metadata": {},
   "outputs": [
    {
     "data": {
      "text/plain": [
       "'google,naver,daum'"
      ]
     },
     "execution_count": 56,
     "metadata": {},
     "output_type": "execute_result"
    }
   ],
   "source": [
    "s2"
   ]
  },
  {
   "cell_type": "code",
   "execution_count": 57,
   "id": "14af558d",
   "metadata": {},
   "outputs": [
    {
     "data": {
      "text/plain": [
       "'Google,naver,daum'"
      ]
     },
     "execution_count": 57,
     "metadata": {},
     "output_type": "execute_result"
    }
   ],
   "source": [
    "s2.capitalize()"
   ]
  },
  {
   "cell_type": "code",
   "execution_count": 58,
   "id": "f94a674c",
   "metadata": {},
   "outputs": [
    {
     "data": {
      "text/plain": [
       "'Google,Naver,Daum'"
      ]
     },
     "execution_count": 58,
     "metadata": {},
     "output_type": "execute_result"
    }
   ],
   "source": [
    "s2.title()"
   ]
  },
  {
   "cell_type": "code",
   "execution_count": 59,
   "id": "19c441b5",
   "metadata": {},
   "outputs": [],
   "source": [
    "email = \"hello@gmail.com\"\n",
    "email2 = \"world@naver.com\""
   ]
  },
  {
   "cell_type": "code",
   "execution_count": 60,
   "id": "07e4f750",
   "metadata": {},
   "outputs": [
    {
     "data": {
      "text/plain": [
       "True"
      ]
     },
     "execution_count": 60,
     "metadata": {},
     "output_type": "execute_result"
    }
   ],
   "source": [
    "email.endswith(\"gmail.com\")"
   ]
  },
  {
   "cell_type": "code",
   "execution_count": 61,
   "id": "b2bb3b01",
   "metadata": {},
   "outputs": [
    {
     "data": {
      "text/plain": [
       "False"
      ]
     },
     "execution_count": 61,
     "metadata": {},
     "output_type": "execute_result"
    }
   ],
   "source": [
    "email2.endswith(\"gmail.com\")"
   ]
  },
  {
   "cell_type": "code",
   "execution_count": 62,
   "id": "6634e38f",
   "metadata": {},
   "outputs": [
    {
     "data": {
      "text/plain": [
       "True"
      ]
     },
     "execution_count": 62,
     "metadata": {},
     "output_type": "execute_result"
    }
   ],
   "source": [
    "email.split(\"@\")[1] == \"gmail.com\""
   ]
  },
  {
   "cell_type": "code",
   "execution_count": 63,
   "id": "464302c2",
   "metadata": {},
   "outputs": [],
   "source": [
    "number = \"9011112-2212123\"\n",
    "number2 = \"0292384-2484383\""
   ]
  },
  {
   "cell_type": "code",
   "execution_count": 64,
   "id": "f32059f4",
   "metadata": {},
   "outputs": [
    {
     "data": {
      "text/plain": [
       "True"
      ]
     },
     "execution_count": 64,
     "metadata": {},
     "output_type": "execute_result"
    }
   ],
   "source": [
    "number.startswith(\"90\")"
   ]
  },
  {
   "cell_type": "code",
   "execution_count": 65,
   "id": "73b28c92",
   "metadata": {},
   "outputs": [],
   "source": [
    "name = \"Harry Parter\""
   ]
  },
  {
   "cell_type": "code",
   "execution_count": 66,
   "id": "b3d5aebf",
   "metadata": {},
   "outputs": [
    {
     "data": {
      "text/plain": [
       "'Harry porter'"
      ]
     },
     "execution_count": 66,
     "metadata": {},
     "output_type": "execute_result"
    }
   ],
   "source": [
    "name.replace(\"Parter\", \"porter\")"
   ]
  },
  {
   "cell_type": "code",
   "execution_count": 67,
   "id": "92e74b5f",
   "metadata": {},
   "outputs": [
    {
     "data": {
      "text/plain": [
       "'harry Parter'"
      ]
     },
     "execution_count": 67,
     "metadata": {},
     "output_type": "execute_result"
    }
   ],
   "source": [
    "name.replace(\"H\", \"h\")"
   ]
  },
  {
   "cell_type": "code",
   "execution_count": 68,
   "id": "0c894836",
   "metadata": {},
   "outputs": [
    {
     "data": {
      "text/plain": [
       "'Harry Parter'"
      ]
     },
     "execution_count": 68,
     "metadata": {},
     "output_type": "execute_result"
    }
   ],
   "source": [
    "name"
   ]
  },
  {
   "cell_type": "code",
   "execution_count": 69,
   "id": "ca85bed5",
   "metadata": {},
   "outputs": [
    {
     "data": {
      "text/plain": [
       "'Harry Porter'"
      ]
     },
     "execution_count": 69,
     "metadata": {},
     "output_type": "execute_result"
    }
   ],
   "source": [
    "name.replace(\"Parter\", \"Porter\")"
   ]
  },
  {
   "cell_type": "code",
   "execution_count": 70,
   "id": "f2457b9b",
   "metadata": {},
   "outputs": [],
   "source": [
    "regions = \"sooul ,busan, daegu, gwangju,sooul\""
   ]
  },
  {
   "cell_type": "code",
   "execution_count": 71,
   "id": "8e061934",
   "metadata": {},
   "outputs": [
    {
     "data": {
      "text/plain": [
       "'seoul ,busan, daegu, gwangju,seoul'"
      ]
     },
     "execution_count": 71,
     "metadata": {},
     "output_type": "execute_result"
    }
   ],
   "source": [
    "regions.replace(\"sooul\", \"seoul\")"
   ]
  },
  {
   "cell_type": "code",
   "execution_count": 72,
   "id": "673beedb",
   "metadata": {},
   "outputs": [
    {
     "data": {
      "text/plain": [
       "'Sooul ,Busan, Daegu, Gwangju,Sooul'"
      ]
     },
     "execution_count": 72,
     "metadata": {},
     "output_type": "execute_result"
    }
   ],
   "source": [
    "regions.title()"
   ]
  },
  {
   "cell_type": "code",
   "execution_count": 73,
   "id": "c9131438",
   "metadata": {},
   "outputs": [
    {
     "data": {
      "text/plain": [
       "['Seoul ', 'Busan', ' Daegu', ' Gwangju', 'Seoul']"
      ]
     },
     "execution_count": 73,
     "metadata": {},
     "output_type": "execute_result"
    }
   ],
   "source": [
    "regions.replace(\"sooul\", \"seoul\").title().split(\",\")"
   ]
  },
  {
   "cell_type": "code",
   "execution_count": 74,
   "id": "c11b6d66",
   "metadata": {},
   "outputs": [
    {
     "data": {
      "text/plain": [
       "'harry porter'"
      ]
     },
     "execution_count": 74,
     "metadata": {},
     "output_type": "execute_result"
    }
   ],
   "source": [
    "name.replace(\"Harry\",\"harry\").replace(\"Parter\",\"porter\")"
   ]
  },
  {
   "cell_type": "code",
   "execution_count": 16,
   "id": "66fce4cf",
   "metadata": {},
   "outputs": [],
   "source": [
    "news = \"\"\"\n",
    "국산 초음속 경전투기 FA-50이 유럽 대륙에 진출한다. 'K방산'의 큰손 폴란드가 물꼬를 텄다. 정부는 7일 폴란드와 사상 첫 국방·방산협력 공동위원회를 여는 한편, 폴란드 수출용 FA-50GF 1호기를 출고했다.\n",
    "\n",
    "이종섭 국방부 장관과 마리우시 브와슈차크 폴란드 부총리 겸 국방장관을 비롯한 양국 국방·방산업계 관계자 100여 명은 이날 경남 사천시 한국항공우주산업(KAI) 본사 격납고에서 열린 FA-50GF 전투기 출고식에 참석했다. 이번 1호기는 폴란드 노후 전투기의 신속한 교체와 전력 공백 간극을 메운다는 의미로 ‘GF’라는 명칭이 붙었다.\n",
    "\n",
    "이번 출고식은 ‘굳건한 약속, 미래를 수호하다’를 주제로 한국과 폴란드의 영공 수호, 그리고 양국의 우정을 상징적으로 표현했다고 KAI는 설명했다. 브와슈차크 부총리는 연설에서 “FA-50GF의 빠른 출고 덕분에 폴란드 전력의 조기 보강 및 현대화가 가능해졌다”며 “FA-50GF가 폴란드의 영공을 비행하는 날을 기대한다”고 말했다.\n",
    "\n",
    "이어 이 장관과 브와슈차크 부총리는 공군 3훈련비행단에서 공동위원회를 열고 FA-50GF 전투기가 최초 출고된 것을 포함해, 양국 간 대규모 방산수출 계약이 안정적으로 이행되고 있는 점을 높이 평가했다고 국방부가 전했다. 이와 함께 동일 무기체계를 운용하는 양국 군인들의 교차 방문과 군사훈련 실시방안, 한국 내 무기체계 운용교육·훈련방안에 대해서도 논의했다. 이번 회의를 계기로 향후의 군사협력 범위를 점진적으로 확대할 방침이다.\n",
    "\n",
    "브와슈차크 부총리는 경기 포천시 승진과학화훈련장을 찾아 이 장관이 주관한 ‘2023 연합·합동 화력격멸훈련’도 참관했다. 이번 훈련에는 폴란드에 수출하고 있는 K2 전차와 K9 자주포 등이 투입됐다. 국방부는 “다양한 실전적 훈련을 통해 검증된 우리의 무기체계와 군의 작전수행 능력을 폴란드 측이 직접 현장에서 확인함으로써 향후 양국 간 국방·방산협력을 더욱 다양한 영역으로 확대해 나갈 계기가 마련될 것”이라고 설명했다.\n",
    "\"\"\""
   ]
  },
  {
   "cell_type": "code",
   "execution_count": 76,
   "id": "9abc1987",
   "metadata": {},
   "outputs": [
    {
     "data": {
      "text/plain": [
       "7"
      ]
     },
     "execution_count": 76,
     "metadata": {},
     "output_type": "execute_result"
    }
   ],
   "source": [
    "news.count(\"국방\")"
   ]
  },
  {
   "cell_type": "code",
   "execution_count": 77,
   "id": "7f4f150c",
   "metadata": {},
   "outputs": [
    {
     "data": {
      "text/plain": [
       "43"
      ]
     },
     "execution_count": 77,
     "metadata": {},
     "output_type": "execute_result"
    }
   ],
   "source": [
    "news.index(\"폴란드\")"
   ]
  },
  {
   "cell_type": "code",
   "execution_count": 78,
   "id": "cfbbba0e",
   "metadata": {},
   "outputs": [
    {
     "data": {
      "text/plain": [
       "43"
      ]
     },
     "execution_count": 78,
     "metadata": {},
     "output_type": "execute_result"
    }
   ],
   "source": [
    "news.find(\"폴란드\")"
   ]
  },
  {
   "cell_type": "code",
   "execution_count": 79,
   "id": "bfc0df09",
   "metadata": {},
   "outputs": [
    {
     "data": {
      "text/plain": [
       "-1"
      ]
     },
     "execution_count": 79,
     "metadata": {},
     "output_type": "execute_result"
    }
   ],
   "source": [
    "news.find(\"일본\")"
   ]
  },
  {
   "cell_type": "code",
   "execution_count": 80,
   "id": "da2c5758",
   "metadata": {},
   "outputs": [
    {
     "ename": "ValueError",
     "evalue": "substring not found",
     "output_type": "error",
     "traceback": [
      "\u001b[1;31m---------------------------------------------------------------------------\u001b[0m",
      "\u001b[1;31mValueError\u001b[0m                                Traceback (most recent call last)",
      "Cell \u001b[1;32mIn[80], line 1\u001b[0m\n\u001b[1;32m----> 1\u001b[0m \u001b[43mnews\u001b[49m\u001b[38;5;241;43m.\u001b[39;49m\u001b[43mindex\u001b[49m\u001b[43m(\u001b[49m\u001b[38;5;124;43m\"\u001b[39;49m\u001b[38;5;124;43m일본\u001b[39;49m\u001b[38;5;124;43m\"\u001b[39;49m\u001b[43m)\u001b[49m\n",
      "\u001b[1;31mValueError\u001b[0m: substring not found"
     ]
    }
   ],
   "source": [
    "news.index(\"일본\")"
   ]
  },
  {
   "cell_type": "code",
   "execution_count": 6,
   "id": "c5cacb25",
   "metadata": {},
   "outputs": [],
   "source": [
    "news2 =\"\"\"                    노원 세 모녀 살인사건의 가해자 김태현은 지난해 4월 대법원에서 무기징역을 확정받았다. 앞서 항소심 재판부가 이례적으로 \"가석방 없는 집행이 필요하다\"는 의견을 밝혔지만, 법적 근거가 없어 유족들은 여전히 두려움과 분노 속에 살고 있다. 피해자의 사촌언니 A씨는 지난달 한국일보와 만나 \"가석방이 가능한 무기징역은 응보적 차원에서도 만족할 수 없고, 나중에 모범수로 가석방되면 알 방법이 없지 않느냐\"며 \"조두순처럼 언론에서 관심을 가지면 다행이지만 결국 복불복\"이라고 말했다.\n",
    "\n",
    "가석방 제도는 수형자들의 '교화와 갱생'에 대한 믿음을 바탕으로 운영된다. 유족들은 그러나 가석방 기준에 강한 의문을 품는다. A씨는 \"김태현은 재판 과정에서 범행 후 시체 옆에서 맥주를 마셨다는 보도에 '맥주가 아닌 음료를 마셨다'며 억울해했다\"며 \"이런 사람에서 어떻게 반성을 기대하느냐\"고 반문했다. A씨는 \"추가 피해자가 발생하지 않길 바랄 뿐 살인범에 대한 교화가 누굴 위한 것인지도 모르겠다\"고 덧붙였다.\n",
    "\n",
    "가해자에게 징역 25년이 확정된 '스포츠센터 막대기 살인사건' 피해자의 누나 고금선씨도 원통하긴 마찬가지다.\n",
    "고씨는 \"감옥 생활만 보고 교화됐다고 볼 수 있는지 의문\"이라며 \n",
    "\"가해자에게 자녀가 있는데, 자기 자식 빨리 보기 위해선 무슨 짓인들 못하겠느냐\"고 말했다. \n",
    "지난달 가해자의 형량이 확정되자, 고씨는 20년 가까이 살던 집을 떠나야 할지 진지하게 검토하고 있다. \n",
    "그는 \"동생이 가해자 회사에서 일할 때 가족들 이름이 기재된 등본도 제출했기 때문에 정말 무섭다\"며 \"아이 학교 때문에 동네를 \n",
    "아예 벗어날 수는 없어 고민이 많다\"고 털어놨다.                     \"\"\""
   ]
  },
  {
   "cell_type": "code",
   "execution_count": 7,
   "id": "686ce531",
   "metadata": {},
   "outputs": [
    {
     "data": {
      "text/plain": [
       "'노원 세 모녀 살인사건의 가해자 김태현은 지난해 4월 대법원에서 무기징역을 확정받았다. 앞서 항소심 재판부가 이례적으로 \"가석방 없는 집행이 필요하다\"는 의견을 밝혔지만, 법적 근거가 없어 유족들은 여전히 두려움과 분노 속에 살고 있다. 피해자의 사촌언니 A씨는 지난달 한국일보와 만나 \"가석방이 가능한 무기징역은 응보적 차원에서도 만족할 수 없고, 나중에 모범수로 가석방되면 알 방법이 없지 않느냐\"며 \"조두순처럼 언론에서 관심을 가지면 다행이지만 결국 복불복\"이라고 말했다.\\n\\n가석방 제도는 수형자들의 \\'교화와 갱생\\'에 대한 믿음을 바탕으로 운영된다. 유족들은 그러나 가석방 기준에 강한 의문을 품는다. A씨는 \"김태현은 재판 과정에서 범행 후 시체 옆에서 맥주를 마셨다는 보도에 \\'맥주가 아닌 음료를 마셨다\\'며 억울해했다\"며 \"이런 사람에서 어떻게 반성을 기대하느냐\"고 반문했다. A씨는 \"추가 피해자가 발생하지 않길 바랄 뿐 살인범에 대한 교화가 누굴 위한 것인지도 모르겠다\"고 덧붙였다.\\n\\n가해자에게 징역 25년이 확정된 \\'스포츠센터 막대기 살인사건\\' 피해자의 누나 고금선씨도 원통하긴 마찬가지다.\\n고씨는 \"감옥 생활만 보고 교화됐다고 볼 수 있는지 의문\"이라며 \\n\"가해자에게 자녀가 있는데, 자기 자식 빨리 보기 위해선 무슨 짓인들 못하겠느냐\"고 말했다. \\n지난달 가해자의 형량이 확정되자, 고씨는 20년 가까이 살던 집을 떠나야 할지 진지하게 검토하고 있다. \\n그는 \"동생이 가해자 회사에서 일할 때 가족들 이름이 기재된 등본도 제출했기 때문에 정말 무섭다\"며 \"아이 학교 때문에 동네를 \\n아예 벗어날 수는 없어 고민이 많다\"고 털어놨다.                     '"
      ]
     },
     "execution_count": 7,
     "metadata": {},
     "output_type": "execute_result"
    }
   ],
   "source": [
    "news2.lstrip()"
   ]
  },
  {
   "cell_type": "code",
   "execution_count": 8,
   "id": "2725a66c",
   "metadata": {},
   "outputs": [
    {
     "data": {
      "text/plain": [
       "'                    노원 세 모녀 살인사건의 가해자 김태현은 지난해 4월 대법원에서 무기징역을 확정받았다. 앞서 항소심 재판부가 이례적으로 \"가석방 없는 집행이 필요하다\"는 의견을 밝혔지만, 법적 근거가 없어 유족들은 여전히 두려움과 분노 속에 살고 있다. 피해자의 사촌언니 A씨는 지난달 한국일보와 만나 \"가석방이 가능한 무기징역은 응보적 차원에서도 만족할 수 없고, 나중에 모범수로 가석방되면 알 방법이 없지 않느냐\"며 \"조두순처럼 언론에서 관심을 가지면 다행이지만 결국 복불복\"이라고 말했다.\\n\\n가석방 제도는 수형자들의 \\'교화와 갱생\\'에 대한 믿음을 바탕으로 운영된다. 유족들은 그러나 가석방 기준에 강한 의문을 품는다. A씨는 \"김태현은 재판 과정에서 범행 후 시체 옆에서 맥주를 마셨다는 보도에 \\'맥주가 아닌 음료를 마셨다\\'며 억울해했다\"며 \"이런 사람에서 어떻게 반성을 기대하느냐\"고 반문했다. A씨는 \"추가 피해자가 발생하지 않길 바랄 뿐 살인범에 대한 교화가 누굴 위한 것인지도 모르겠다\"고 덧붙였다.\\n\\n가해자에게 징역 25년이 확정된 \\'스포츠센터 막대기 살인사건\\' 피해자의 누나 고금선씨도 원통하긴 마찬가지다.\\n고씨는 \"감옥 생활만 보고 교화됐다고 볼 수 있는지 의문\"이라며 \\n\"가해자에게 자녀가 있는데, 자기 자식 빨리 보기 위해선 무슨 짓인들 못하겠느냐\"고 말했다. \\n지난달 가해자의 형량이 확정되자, 고씨는 20년 가까이 살던 집을 떠나야 할지 진지하게 검토하고 있다. \\n그는 \"동생이 가해자 회사에서 일할 때 가족들 이름이 기재된 등본도 제출했기 때문에 정말 무섭다\"며 \"아이 학교 때문에 동네를 \\n아예 벗어날 수는 없어 고민이 많다\"고 털어놨다.'"
      ]
     },
     "execution_count": 8,
     "metadata": {},
     "output_type": "execute_result"
    }
   ],
   "source": [
    "news2.rstrip()"
   ]
  },
  {
   "cell_type": "code",
   "execution_count": 9,
   "id": "c6201dd5",
   "metadata": {},
   "outputs": [
    {
     "data": {
      "text/plain": [
       "'노원 세 모녀 살인사건의 가해자 김태현은 지난해 4월 대법원에서 무기징역을 확정받았다. 앞서 항소심 재판부가 이례적으로 \"가석방 없는 집행이 필요하다\"는 의견을 밝혔지만, 법적 근거가 없어 유족들은 여전히 두려움과 분노 속에 살고 있다. 피해자의 사촌언니 A씨는 지난달 한국일보와 만나 \"가석방이 가능한 무기징역은 응보적 차원에서도 만족할 수 없고, 나중에 모범수로 가석방되면 알 방법이 없지 않느냐\"며 \"조두순처럼 언론에서 관심을 가지면 다행이지만 결국 복불복\"이라고 말했다.\\n\\n가석방 제도는 수형자들의 \\'교화와 갱생\\'에 대한 믿음을 바탕으로 운영된다. 유족들은 그러나 가석방 기준에 강한 의문을 품는다. A씨는 \"김태현은 재판 과정에서 범행 후 시체 옆에서 맥주를 마셨다는 보도에 \\'맥주가 아닌 음료를 마셨다\\'며 억울해했다\"며 \"이런 사람에서 어떻게 반성을 기대하느냐\"고 반문했다. A씨는 \"추가 피해자가 발생하지 않길 바랄 뿐 살인범에 대한 교화가 누굴 위한 것인지도 모르겠다\"고 덧붙였다.\\n\\n가해자에게 징역 25년이 확정된 \\'스포츠센터 막대기 살인사건\\' 피해자의 누나 고금선씨도 원통하긴 마찬가지다.\\n고씨는 \"감옥 생활만 보고 교화됐다고 볼 수 있는지 의문\"이라며 \\n\"가해자에게 자녀가 있는데, 자기 자식 빨리 보기 위해선 무슨 짓인들 못하겠느냐\"고 말했다. \\n지난달 가해자의 형량이 확정되자, 고씨는 20년 가까이 살던 집을 떠나야 할지 진지하게 검토하고 있다. \\n그는 \"동생이 가해자 회사에서 일할 때 가족들 이름이 기재된 등본도 제출했기 때문에 정말 무섭다\"며 \"아이 학교 때문에 동네를 \\n아예 벗어날 수는 없어 고민이 많다\"고 털어놨다.'"
      ]
     },
     "execution_count": 9,
     "metadata": {},
     "output_type": "execute_result"
    }
   ],
   "source": [
    "news2.strip()"
   ]
  },
  {
   "cell_type": "code",
   "execution_count": 10,
   "id": "f20e5cae",
   "metadata": {},
   "outputs": [
    {
     "data": {
      "text/plain": [
       "'노원세모녀살인사건의가해자김태현은지난해4월대법원에서무기징역을확정받았다.앞서항소심재판부가이례적으로\"가석방없는집행이필요하다\"는의견을밝혔지만,법적근거가없어유족들은여전히두려움과분노속에살고있다.피해자의사촌언니A씨는지난달한국일보와만나\"가석방이가능한무기징역은응보적차원에서도만족할수없고,나중에모범수로가석방되면알방법이없지않느냐\"며\"조두순처럼언론에서관심을가지면다행이지만결국복불복\"이라고말했다.\\n\\n가석방제도는수형자들의\\'교화와갱생\\'에대한믿음을바탕으로운영된다.유족들은그러나가석방기준에강한의문을품는다.A씨는\"김태현은재판과정에서범행후시체옆에서맥주를마셨다는보도에\\'맥주가아닌음료를마셨다\\'며억울해했다\"며\"이런사람에서어떻게반성을기대하느냐\"고반문했다.A씨는\"추가피해자가발생하지않길바랄뿐살인범에대한교화가누굴위한것인지도모르겠다\"고덧붙였다.\\n\\n가해자에게징역25년이확정된\\'스포츠센터막대기살인사건\\'피해자의누나고금선씨도원통하긴마찬가지다.\\n고씨는\"감옥생활만보고교화됐다고볼수있는지의문\"이라며\\n\"가해자에게자녀가있는데,자기자식빨리보기위해선무슨짓인들못하겠느냐\"고말했다.\\n지난달가해자의형량이확정되자,고씨는20년가까이살던집을떠나야할지진지하게검토하고있다.\\n그는\"동생이가해자회사에서일할때가족들이름이기재된등본도제출했기때문에정말무섭다\"며\"아이학교때문에동네를\\n아예벗어날수는없어고민이많다\"고털어놨다.'"
      ]
     },
     "execution_count": 10,
     "metadata": {},
     "output_type": "execute_result"
    }
   ],
   "source": [
    "news2.replace(\" \", \"\")"
   ]
  },
  {
   "cell_type": "code",
   "execution_count": 11,
   "id": "34125395",
   "metadata": {},
   "outputs": [
    {
     "data": {
      "text/plain": [
       "'                    노원 세 모녀 살인사건의 가해자 김태현은 지난해 4월 대법원에서 무기징역을 확정받았다. 앞서 항소심 재판부가 이례적으로 \"가석방 없는 집행이 필요하다\"는 의견을 밝혔지만, 법적 근거가 없어 유족들은 여전히 두려움과 분노 속에 살고 있다. 피해자의 사촌언니 A씨는 지난달 한국일보와 만나 \"가석방이 가능한 무기징역은 응보적 차원에서도 만족할 수 없고, 나중에 모범수로 가석방되면 알 방법이 없지 않느냐\"며 \"조두순처럼 언론에서 관심을 가지면 다행이지만 결국 복불복\"이라고 말했다.\\n\\n가석방 제도는 수형자들의 \\'교화와 갱생\\'에 대한 믿음을 바탕으로 운영된다. 유족들은 그러나 가석방 기준에 강한 의문을 품는다. A씨는 \"김태현은 재판 과정에서 범행 후 시체 옆에서 맥주를 마셨다는 보도에 \\'맥주가 아닌 음료를 마셨다\\'며 억울해했다\"며 \"이런 사람에서 어떻게 반성을 기대하느냐\"고 반문했다. A씨는 \"추가 피해자가 발생하지 않길 바랄 뿐 살인범에 대한 교화가 누굴 위한 것인지도 모르겠다\"고 덧붙였다.\\n\\n가해자에게 징역 25년이 확정된 \\'스포츠센터 막대기 살인사건\\' 피해자의 누나 고금선씨도 원통하긴 마찬가지다.\\n고씨는 \"감옥 생활만 보고 교화됐다고 볼 수 있는지 의문\"이라며 \\n\"가해자에게 자녀가 있는데, 자기 자식 빨리 보기 위해선 무슨 짓인들 못하겠느냐\"고 말했다. \\n지난달 가해자의 형량이 확정되자, 고씨는 20년 가까이 살던 집을 떠나야 할지 진지하게 검토하고 있다. \\n그는 \"동생이 가해자 회사에서 일할 때 가족들 이름이 기재된 등본도 제출했기 때문에 정말 무섭다\"며 \"아이 학교 때문에 동네를 \\n아예 벗어날 수는 없어 고민이 많다\"고 털어놨다.                     '"
      ]
     },
     "execution_count": 11,
     "metadata": {},
     "output_type": "execute_result"
    }
   ],
   "source": [
    "news2"
   ]
  },
  {
   "cell_type": "code",
   "execution_count": 12,
   "id": "a93c5d4c",
   "metadata": {},
   "outputs": [],
   "source": [
    "import re"
   ]
  },
  {
   "cell_type": "code",
   "execution_count": 13,
   "id": "89b9412f",
   "metadata": {},
   "outputs": [
    {
     "data": {
      "text/plain": [
       "'노원세모녀살인사건의가해자김태현은지난해4월대법원에서무기징역을확정받았다.앞서항소심재판부가이례적으로\"가석방없는집행이필요하다\"는의견을밝혔지만,법적근거가없어유족들은여전히두려움과분노속에살고있다.피해자의사촌언니A씨는지난달한국일보와만나\"가석방이가능한무기징역은응보적차원에서도만족할수없고,나중에모범수로가석방되면알방법이없지않느냐\"며\"조두순처럼언론에서관심을가지면다행이지만결국복불복\"이라고말했다.가석방제도는수형자들의\\'교화와갱생\\'에대한믿음을바탕으로운영된다.유족들은그러나가석방기준에강한의문을품는다.A씨는\"김태현은재판과정에서범행후시체옆에서맥주를마셨다는보도에\\'맥주가아닌음료를마셨다\\'며억울해했다\"며\"이런사람에서어떻게반성을기대하느냐\"고반문했다.A씨는\"추가피해자가발생하지않길바랄뿐살인범에대한교화가누굴위한것인지도모르겠다\"고덧붙였다.가해자에게징역25년이확정된\\'스포츠센터막대기살인사건\\'피해자의누나고금선씨도원통하긴마찬가지다.고씨는\"감옥생활만보고교화됐다고볼수있는지의문\"이라며\"가해자에게자녀가있는데,자기자식빨리보기위해선무슨짓인들못하겠느냐\"고말했다.지난달가해자의형량이확정되자,고씨는20년가까이살던집을떠나야할지진지하게검토하고있다.그는\"동생이가해자회사에서일할때가족들이름이기재된등본도제출했기때문에정말무섭다\"며\"아이학교때문에동네를아예벗어날수는없어고민이많다\"고털어놨다.'"
      ]
     },
     "execution_count": 13,
     "metadata": {},
     "output_type": "execute_result"
    }
   ],
   "source": [
    "re.sub(\"\\\\s\", \"\", news2)"
   ]
  },
  {
   "cell_type": "code",
   "execution_count": 15,
   "id": "3c76b2d5",
   "metadata": {},
   "outputs": [
    {
     "name": "stdout",
     "output_type": "stream",
     "text": [
      "당신의 이름을 입력해주세요김민선\n"
     ]
    }
   ],
   "source": [
    "name = input(\"당신의 이름을 입력해주세요\")"
   ]
  },
  {
   "cell_type": "code",
   "execution_count": null,
   "id": "00130e9d",
   "metadata": {},
   "outputs": [],
   "source": []
  },
  {
   "cell_type": "code",
   "execution_count": 2,
   "id": "8395f5a8",
   "metadata": {},
   "outputs": [
    {
     "name": "stdout",
     "output_type": "stream",
     "text": [
      "첫번째 숫자를 입력해주세요10\n",
      "두번째 숫자를 입력해주세요20\n",
      "두 숫자의 합은 30 입니다.\n"
     ]
    }
   ],
   "source": [
    "num = int(input(\"첫번째 숫자를 입력해주세요\"))\n",
    "num2 = int(input(\"두번째 숫자를 입력해주세요\"))\n",
    "\n",
    "print(f\"두 숫자의 합은 {num + num2} 입니다.\")"
   ]
  },
  {
   "cell_type": "code",
   "execution_count": 1,
   "id": "94dd8c20",
   "metadata": {},
   "outputs": [
    {
     "name": "stdout",
     "output_type": "stream",
     "text": [
      "첫번째 실수를 입력해주세요1.1\n",
      "두번째 실수를 입력해주세요2.2\n",
      "두 실수의 합은 3.3000000000000003) 입니다.\n"
     ]
    }
   ],
   "source": [
    "float1 = float(input(\"첫번째 실수를 입력해주세요\"))\n",
    "float2 = float(input(\"두번째 실수를 입력해주세요\"))\n",
    "\n",
    "print(f\"두 실수의 합은 {float1 + float2}) 입니다.\")"
   ]
  },
  {
   "cell_type": "code",
   "execution_count": null,
   "id": "475ce713",
   "metadata": {},
   "outputs": [],
   "source": []
  },
  {
   "cell_type": "code",
   "execution_count": null,
   "id": "3afebd10",
   "metadata": {},
   "outputs": [],
   "source": []
  },
  {
   "cell_type": "code",
   "execution_count": null,
   "id": "834ca503",
   "metadata": {},
   "outputs": [],
   "source": []
  }
 ],
 "metadata": {
  "kernelspec": {
   "display_name": "Python 3 (ipykernel)",
   "language": "python",
   "name": "python3"
  },
  "language_info": {
   "codemirror_mode": {
    "name": "ipython",
    "version": 3
   },
   "file_extension": ".py",
   "mimetype": "text/x-python",
   "name": "python",
   "nbconvert_exporter": "python",
   "pygments_lexer": "ipython3",
   "version": "3.11.3"
  }
 },
 "nbformat": 4,
 "nbformat_minor": 5
}
