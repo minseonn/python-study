{
 "cells": [
  {
   "cell_type": "code",
   "execution_count": 11,
   "id": "91b61cf0",
   "metadata": {},
   "outputs": [
    {
     "name": "stdout",
     "output_type": "stream",
     "text": [
      "현재 숫자 : 0\n",
      "현재 숫자 :  1\n",
      "현재 숫자 :  6\n",
      "현재 숫자 :  0\n"
     ]
    }
   ],
   "source": [
    "#카운터 크래스\n",
    "#최초 넘버를 설정\n",
    "#증가하는 기능\n",
    "#리셋버튼을 클릭하면 넘버가 0으로 초기화된다\n",
    "\n",
    "class Counter :\n",
    "    \n",
    "    #생성자\n",
    "    def __init__(self, init_value = 0) : #self는 자기자신\n",
    "        self.count = init_value\n",
    "        \n",
    "    def increment(self):\n",
    "        self.count += 1\n",
    "    def reset(self) :\n",
    "        self.count = 0\n",
    "yellow_counter = Counter()\n",
    "print('현재 숫자 :', yellow_counter.count)\n",
    "\n",
    "yellow_counter.increment()\n",
    "\n",
    "print('현재 숫자 : ', yellow_counter.count)\n",
    "\n",
    "yellow_counter.increment()\n",
    "yellow_counter.increment()\n",
    "yellow_counter.increment()\n",
    "yellow_counter.increment()\n",
    "yellow_counter.increment()\n",
    "\n",
    "\n",
    "print('현재 숫자 : ', yellow_counter.count)\n",
    "\n",
    "yellow_counter.reset()\n",
    "      \n",
    "print('현재 숫자 : ', yellow_counter.count)\n",
    "        "
   ]
  },
  {
   "cell_type": "code",
   "execution_count": 21,
   "id": "50332032",
   "metadata": {},
   "outputs": [
    {
     "name": "stdout",
     "output_type": "stream",
     "text": [
      "전원: False 채널 : 0 볼륨 : 0 브랜드 : Samsung 색상 : black\n",
      "전원: False 채널 : 0 볼륨 : 0 브랜드 : Samsung 색상 : black\n",
      "전원: True 채널 : 0 볼륨 : 0 브랜드 : Samsung 색상 : black\n",
      "전원: True 채널 : 0 볼륨 : 1 브랜드 : Samsung 색상 : black\n"
     ]
    }
   ],
   "source": [
    "#tv\n",
    "#현재 채널, 현재 볼륨, 브랜드, 색상, 전원 상태 속성 \n",
    "#전원 키고 끄기, 채널(up, down) , 볼륨 (up, down)\n",
    "#전원이 켜진 상태이여 채널, 볼륨이 up,down된다. \n",
    "class TV :\n",
    "    def __init__(self, brand, color, on = False  ,channel = 0 , volumn = 0) :\n",
    "        \n",
    "        self.brand = brand\n",
    "        self.color = color\n",
    "        self.on = on\n",
    "        self.channel = channel\n",
    "        self.volumn = volumn\n",
    "\n",
    "    def toggleOn(self) :\n",
    "        self.on = not(self.on)\n",
    "        \n",
    "    def upChannel(self) :\n",
    "        if self.on :\n",
    "            self.channel += 1\n",
    "        \n",
    "    def downChannel(self) :\n",
    "        if self.on and self.channel != 0 :\n",
    "            self.channel -= 1\n",
    "        \n",
    "    def upVolumn(self) :\n",
    "        if self.on :\n",
    "            self.volumn += 1\n",
    "        \n",
    "    def downVolumn(self) :\n",
    "        if self.on and self.volumn != 0 :\n",
    "            self.volumn -=1\n",
    "        \n",
    "s = TV(\"Samsung\",\"black\",False , 0 , 0)\n",
    "s\n",
    "t= s\n",
    "s,t\n",
    "\n",
    "print(f\"전원: {s.on} 채널 : {s.channel} 볼륨 : {s.volumn} 브랜드 : {s.brand} 색상 : {s.color}\")\n",
    "\n",
    "s.upVolumn()\n",
    "print(f\"전원: {s.on} 채널 : {s.channel} 볼륨 : {s.volumn} 브랜드 : {s.brand} 색상 : {s.color}\")\n",
    "\n",
    "s.toggleOn() # 전원 켜기 \n",
    "\n",
    "print(f\"전원: {s.on} 채널 : {s.channel} 볼륨 : {s.volumn} 브랜드 : {s.brand} 색상 : {s.color}\")\n",
    "\n",
    "s.upVolumn()\n",
    "\n",
    "print(f\"전원: {s.on} 채널 : {s.channel} 볼륨 : {s.volumn} 브랜드 : {s.brand} 색상 : {s.color}\")"
   ]
  },
  {
   "cell_type": "code",
   "execution_count": 29,
   "id": "9a80ccb3",
   "metadata": {},
   "outputs": [
    {
     "name": "stdout",
     "output_type": "stream",
     "text": [
      "속도:  0\n",
      "속도:  1\n",
      "속도:  3\n",
      "속도:  2\n"
     ]
    },
    {
     "ename": "AttributeError",
     "evalue": "'Car' object has no attribute 'boost'",
     "output_type": "error",
     "traceback": [
      "\u001b[1;31m---------------------------------------------------------------------------\u001b[0m",
      "\u001b[1;31mAttributeError\u001b[0m                            Traceback (most recent call last)",
      "Cell \u001b[1;32mIn[29], line 39\u001b[0m\n\u001b[0;32m     36\u001b[0m \u001b[38;5;28mprint\u001b[39m(\u001b[38;5;124m'\u001b[39m\u001b[38;5;124m속도: \u001b[39m\u001b[38;5;124m'\u001b[39m, t\u001b[38;5;241m.\u001b[39mspeed) \u001b[38;5;66;03m#현재속도\u001b[39;00m\n\u001b[0;32m     38\u001b[0m c \u001b[38;5;241m=\u001b[39m Car(\u001b[38;5;124m\"\u001b[39m\u001b[38;5;124m현대\u001b[39m\u001b[38;5;124m\"\u001b[39m, \u001b[38;5;124m\"\u001b[39m\u001b[38;5;124mred\u001b[39m\u001b[38;5;124m\"\u001b[39m)\n\u001b[1;32m---> 39\u001b[0m \u001b[43mc\u001b[49m\u001b[38;5;241;43m.\u001b[39;49m\u001b[43mboost\u001b[49m() \u001b[38;5;66;03m# 자식은 부모의 속성을 가지지만 부모는 없다. -> 오류 뜸\u001b[39;00m\n",
      "\u001b[1;31mAttributeError\u001b[0m: 'Car' object has no attribute 'boost'"
     ]
    }
   ],
   "source": [
    "#클래스 차\n",
    "#속성 : 속도, 방향, 브랜드, 색상\n",
    "#엑셀, 브레이크, 핸들(좌,정면, 우)\n",
    "\n",
    "#클래스 트럭 : 차 클래스 상속\n",
    "# 탑재량 (최초에 초기화)\n",
    "# 부스터 (엑셀 *2)\n",
    "\n",
    "class Car : \n",
    "    def __init__(self, brand, color ) :\n",
    "        self.speed = 0\n",
    "        self.direction = \"정면\"\n",
    "        self.brand = brand\n",
    "        self.color = color\n",
    "        \n",
    "    def accelerate(self):\n",
    "        self.speed += 1\n",
    "        \n",
    "    def brake(self) :\n",
    "        self.speed -= 1\n",
    "    \n",
    "class Truck(Car) :\n",
    "    def __init__(self, brand, color, load) :\n",
    "        super().__init__(brand, color) \n",
    "        self.load = load\n",
    "        \n",
    "    def boost(self) :\n",
    "        self.speed += 2\n",
    "t = Truck(\"현대\",\"black\",1000)\n",
    "print('속도: ', t.speed) #현재속도\n",
    "t.accelerate()\n",
    "print('속도: ', t.speed) #현재속도\n",
    "t.boost()\n",
    "print('속도: ', t.speed) #현재속도\n",
    "t.brake()\n",
    "print('속도: ', t.speed) #현재속도\n",
    "\n",
    "c = Car(\"현대\", \"red\")\n",
    "#c.boost() # 자식은 부모의 속성을 가지지만 부모는 없다. -> 오류 뜸\n",
    "\n"
   ]
  },
  {
   "cell_type": "code",
   "execution_count": 32,
   "id": "21d7e7c5",
   "metadata": {},
   "outputs": [
    {
     "ename": "IndentationError",
     "evalue": "unexpected indent (4060422412.py, line 21)",
     "output_type": "error",
     "traceback": [
      "\u001b[1;36m  Cell \u001b[1;32mIn[32], line 21\u001b[1;36m\u001b[0m\n\u001b[1;33m    super().__init__(self)\u001b[0m\n\u001b[1;37m    ^\u001b[0m\n\u001b[1;31mIndentationError\u001b[0m\u001b[1;31m:\u001b[0m unexpected indent\n"
     ]
    }
   ],
   "source": [
    "# 직원(Employee) 클래스\n",
    "# 속성 이름, 월급\n",
    "#월급을 보는 함수(get_salary())\n",
    "\n",
    "# 매니저(Manager) 클래스 - 직원 상속\n",
    "# 월급 *2\n",
    "\n",
    "# A 직원\n",
    "# B 매니저\n",
    "\n",
    "class Employee :\n",
    "    def __init__(self, name, salary) :\n",
    "        self.name = name\n",
    "        self.pay = pay\n",
    "        \n",
    "    def get_salary(self) :\n",
    "        return self.salary\n",
    "    \n",
    "class Manager(Employee) :\n",
    "    def__init__(self, name, salary) \n",
    "        super().__init__(self)\n",
    "    def get_salary(self) :\n",
    "        return self.salary *2\n",
    "    \n",
    "a = Employee(\"A\", 1000)\n",
    "b = Manager(\"B\", 1000)\n",
    "\n",
    "a.get_salary()\n",
    "        "
   ]
  },
  {
   "cell_type": "code",
   "execution_count": 33,
   "id": "d0f66e66",
   "metadata": {},
   "outputs": [
    {
     "ename": "ModuleNotFoundError",
     "evalue": "No module named 'numpy'",
     "output_type": "error",
     "traceback": [
      "\u001b[1;31m---------------------------------------------------------------------------\u001b[0m",
      "\u001b[1;31mModuleNotFoundError\u001b[0m                       Traceback (most recent call last)",
      "Cell \u001b[1;32mIn[33], line 1\u001b[0m\n\u001b[1;32m----> 1\u001b[0m \u001b[38;5;28;01mimport\u001b[39;00m \u001b[38;5;21;01mnumpy\u001b[39;00m \u001b[38;5;28;01mas\u001b[39;00m \u001b[38;5;21;01mnp\u001b[39;00m\n",
      "\u001b[1;31mModuleNotFoundError\u001b[0m: No module named 'numpy'"
     ]
    }
   ],
   "source": [
    "import numpy as np"
   ]
  },
  {
   "cell_type": "code",
   "execution_count": null,
   "id": "108a9861",
   "metadata": {},
   "outputs": [],
   "source": []
  },
  {
   "cell_type": "code",
   "execution_count": null,
   "id": "3720fd66",
   "metadata": {},
   "outputs": [],
   "source": []
  },
  {
   "cell_type": "code",
   "execution_count": null,
   "id": "fb3b9711",
   "metadata": {},
   "outputs": [],
   "source": []
  }
 ],
 "metadata": {
  "kernelspec": {
   "display_name": "Python 3 (ipykernel)",
   "language": "python",
   "name": "python3"
  },
  "language_info": {
   "codemirror_mode": {
    "name": "ipython",
    "version": 3
   },
   "file_extension": ".py",
   "mimetype": "text/x-python",
   "name": "python",
   "nbconvert_exporter": "python",
   "pygments_lexer": "ipython3",
   "version": "3.11.3"
  }
 },
 "nbformat": 4,
 "nbformat_minor": 5
}
