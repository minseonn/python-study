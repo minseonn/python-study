{
 "cells": [
  {
   "cell_type": "code",
   "execution_count": 2,
   "id": "c1bca9d2",
   "metadata": {},
   "outputs": [],
   "source": [
    "#일주일의 온도를 temp라는 리스트 형태로 담아보기\n",
    "temps = [28,29,30,31,32,27,34]"
   ]
  },
  {
   "cell_type": "code",
   "execution_count": 3,
   "id": "f46beb72",
   "metadata": {},
   "outputs": [
    {
     "data": {
      "text/plain": [
       "29"
      ]
     },
     "execution_count": 3,
     "metadata": {},
     "output_type": "execute_result"
    }
   ],
   "source": [
    "temps[1]"
   ]
  },
  {
   "cell_type": "code",
   "execution_count": 4,
   "id": "b87e357b",
   "metadata": {},
   "outputs": [
    {
     "data": {
      "text/plain": [
       "31"
      ]
     },
     "execution_count": 4,
     "metadata": {},
     "output_type": "execute_result"
    }
   ],
   "source": [
    "temps[3]"
   ]
  },
  {
   "cell_type": "code",
   "execution_count": 6,
   "id": "387bffab",
   "metadata": {},
   "outputs": [
    {
     "data": {
      "text/plain": [
       "[28, 29, 30, 31, 29, 27, 34]"
      ]
     },
     "execution_count": 6,
     "metadata": {},
     "output_type": "execute_result"
    }
   ],
   "source": [
    "temps[4] = 29\n",
    "temps"
   ]
  },
  {
   "cell_type": "code",
   "execution_count": 7,
   "id": "851ea6e1",
   "metadata": {},
   "outputs": [
    {
     "ename": "NameError",
     "evalue": "name 'temp' is not defined",
     "output_type": "error",
     "traceback": [
      "\u001b[1;31m---------------------------------------------------------------------------\u001b[0m",
      "\u001b[1;31mNameError\u001b[0m                                 Traceback (most recent call last)",
      "Cell \u001b[1;32mIn[7], line 1\u001b[0m\n\u001b[1;32m----> 1\u001b[0m \u001b[43mtemp\u001b[49m[\u001b[38;5;241m7\u001b[39m]\n",
      "\u001b[1;31mNameError\u001b[0m: name 'temp' is not defined"
     ]
    }
   ],
   "source": [
    "temp[7]"
   ]
  },
  {
   "cell_type": "code",
   "execution_count": 8,
   "id": "74c851fc",
   "metadata": {},
   "outputs": [
    {
     "data": {
      "text/plain": [
       "7"
      ]
     },
     "execution_count": 8,
     "metadata": {},
     "output_type": "execute_result"
    }
   ],
   "source": [
    "len(temps)"
   ]
  },
  {
   "cell_type": "code",
   "execution_count": 11,
   "id": "e678eb73",
   "metadata": {},
   "outputs": [
    {
     "name": "stdout",
     "output_type": "stream",
     "text": [
      "28\n",
      "29\n",
      "30\n",
      "31\n",
      "29\n",
      "27\n",
      "34\n"
     ]
    }
   ],
   "source": [
    "for i in temps:\n",
    "        print(i) #순차적으로 출력되는 거 확인"
   ]
  },
  {
   "cell_type": "code",
   "execution_count": 14,
   "id": "cefe77ab",
   "metadata": {},
   "outputs": [
    {
     "name": "stdout",
     "output_type": "stream",
     "text": [
      "name 홍길동\n",
      "age 22\n"
     ]
    }
   ],
   "source": [
    "questions = [\"name\", \"age\"]\n",
    "answers =[\"홍길동\", 22]\n",
    "\n",
    "for q,a in zip(questions, answers):\n",
    "    print(q,a)"
   ]
  },
  {
   "cell_type": "code",
   "execution_count": 17,
   "id": "ddb07eb1",
   "metadata": {},
   "outputs": [
    {
     "ename": "SyntaxError",
     "evalue": "unterminated string literal (detected at line 8) (3886162444.py, line 8)",
     "output_type": "error",
     "traceback": [
      "\u001b[1;36m  Cell \u001b[1;32mIn[17], line 8\u001b[1;36m\u001b[0m\n\u001b[1;33m    print(f`{country}의 수도인 {capital}dpsms {population}명의 인구가 거주중입니다')\u001b[0m\n\u001b[1;37m                                                                   ^\u001b[0m\n\u001b[1;31mSyntaxError\u001b[0m\u001b[1;31m:\u001b[0m unterminated string literal (detected at line 8)\n"
     ]
    }
   ],
   "source": [
    "countries = [\"한국\", \"중국\", \"일본\"]\n",
    "capitals = ['서울','베이징','도쿄']\n",
    "populations = [100,200,300]\n",
    "\n",
    "## 한국의 수도인 서울에는 100명의 인구가 거주중입니다. \n",
    "\n",
    "for country, capital, population in zip(countries, capitals, populations) :\n",
    "    print(f`{country}의 수도인 {capital}dpsms {population}명의 인구가 거주중입니다')"
   ]
  },
  {
   "cell_type": "code",
   "execution_count": 18,
   "id": "02c08e4a",
   "metadata": {},
   "outputs": [],
   "source": [
    "heros = []"
   ]
  },
  {
   "cell_type": "code",
   "execution_count": 19,
   "id": "92c1c75e",
   "metadata": {},
   "outputs": [],
   "source": [
    "heros.append('아이언맨')"
   ]
  },
  {
   "cell_type": "code",
   "execution_count": 20,
   "id": "895efb67",
   "metadata": {},
   "outputs": [
    {
     "data": {
      "text/plain": [
       "['아이언맨']"
      ]
     },
     "execution_count": 20,
     "metadata": {},
     "output_type": "execute_result"
    }
   ],
   "source": [
    "heros"
   ]
  },
  {
   "cell_type": "code",
   "execution_count": 21,
   "id": "5a9d6203",
   "metadata": {},
   "outputs": [],
   "source": [
    "heros.append(\"토르\")\n",
    "heros.append(\"헐크\")"
   ]
  },
  {
   "cell_type": "code",
   "execution_count": 22,
   "id": "d783cc1b",
   "metadata": {},
   "outputs": [
    {
     "data": {
      "text/plain": [
       "['아이언맨', '토르', '헐크']"
      ]
     },
     "execution_count": 22,
     "metadata": {},
     "output_type": "execute_result"
    }
   ],
   "source": [
    "heros"
   ]
  },
  {
   "cell_type": "code",
   "execution_count": 23,
   "id": "0373051e",
   "metadata": {},
   "outputs": [],
   "source": [
    "heros.insert(1,\"스파이더맨\")"
   ]
  },
  {
   "cell_type": "code",
   "execution_count": 24,
   "id": "4ffee999",
   "metadata": {},
   "outputs": [
    {
     "data": {
      "text/plain": [
       "['아이언맨', '스파이더맨', '토르', '헐크']"
      ]
     },
     "execution_count": 24,
     "metadata": {},
     "output_type": "execute_result"
    }
   ],
   "source": [
    "heros"
   ]
  },
  {
   "cell_type": "code",
   "execution_count": 25,
   "id": "6c80eadb",
   "metadata": {},
   "outputs": [
    {
     "data": {
      "text/plain": [
       "2"
      ]
     },
     "execution_count": 25,
     "metadata": {},
     "output_type": "execute_result"
    }
   ],
   "source": [
    "heros.index(\"토르\")"
   ]
  },
  {
   "cell_type": "code",
   "execution_count": 26,
   "id": "01916604",
   "metadata": {},
   "outputs": [
    {
     "ename": "ValueError",
     "evalue": "'캡틴아메리카' is not in list",
     "output_type": "error",
     "traceback": [
      "\u001b[1;31m---------------------------------------------------------------------------\u001b[0m",
      "\u001b[1;31mValueError\u001b[0m                                Traceback (most recent call last)",
      "Cell \u001b[1;32mIn[26], line 1\u001b[0m\n\u001b[1;32m----> 1\u001b[0m \u001b[43mheros\u001b[49m\u001b[38;5;241;43m.\u001b[39;49m\u001b[43mindex\u001b[49m\u001b[43m(\u001b[49m\u001b[38;5;124;43m\"\u001b[39;49m\u001b[38;5;124;43m캡틴아메리카\u001b[39;49m\u001b[38;5;124;43m\"\u001b[39;49m\u001b[43m)\u001b[49m\n",
      "\u001b[1;31mValueError\u001b[0m: '캡틴아메리카' is not in list"
     ]
    }
   ],
   "source": [
    "heros.index(\"캡틴아메리카\")"
   ]
  },
  {
   "cell_type": "code",
   "execution_count": 27,
   "id": "5dd6873a",
   "metadata": {},
   "outputs": [],
   "source": [
    "if \"캡틴아메리카\" in heros :\n",
    "    print(\"캡틴아메리가가 heros에 있음\")"
   ]
  },
  {
   "cell_type": "code",
   "execution_count": 28,
   "id": "b433ee20",
   "metadata": {},
   "outputs": [
    {
     "data": {
      "text/plain": [
       "['아이언맨', '스파이더맨', '토르', '헐크']"
      ]
     },
     "execution_count": 28,
     "metadata": {},
     "output_type": "execute_result"
    }
   ],
   "source": [
    "heros"
   ]
  },
  {
   "cell_type": "code",
   "execution_count": 29,
   "id": "7dc11bac",
   "metadata": {},
   "outputs": [
    {
     "data": {
      "text/plain": [
       "'헐크'"
      ]
     },
     "execution_count": 29,
     "metadata": {},
     "output_type": "execute_result"
    }
   ],
   "source": [
    "heros.pop(3)"
   ]
  },
  {
   "cell_type": "code",
   "execution_count": 30,
   "id": "346777c7",
   "metadata": {},
   "outputs": [
    {
     "data": {
      "text/plain": [
       "['아이언맨', '스파이더맨', '토르']"
      ]
     },
     "execution_count": 30,
     "metadata": {},
     "output_type": "execute_result"
    }
   ],
   "source": [
    "heros"
   ]
  },
  {
   "cell_type": "code",
   "execution_count": 31,
   "id": "9d997e80",
   "metadata": {},
   "outputs": [],
   "source": [
    "heros.remove(\"스파이더맨\")"
   ]
  },
  {
   "cell_type": "code",
   "execution_count": 32,
   "id": "6280a67d",
   "metadata": {},
   "outputs": [
    {
     "data": {
      "text/plain": [
       "['아이언맨', '토르']"
      ]
     },
     "execution_count": 32,
     "metadata": {},
     "output_type": "execute_result"
    }
   ],
   "source": [
    "heros"
   ]
  },
  {
   "cell_type": "code",
   "execution_count": 33,
   "id": "3abd809f",
   "metadata": {},
   "outputs": [
    {
     "ename": "ValueError",
     "evalue": "list.remove(x): x not in list",
     "output_type": "error",
     "traceback": [
      "\u001b[1;31m---------------------------------------------------------------------------\u001b[0m",
      "\u001b[1;31mValueError\u001b[0m                                Traceback (most recent call last)",
      "Cell \u001b[1;32mIn[33], line 1\u001b[0m\n\u001b[1;32m----> 1\u001b[0m \u001b[43mheros\u001b[49m\u001b[38;5;241;43m.\u001b[39;49m\u001b[43mremove\u001b[49m\u001b[43m(\u001b[49m\u001b[38;5;124;43m\"\u001b[39;49m\u001b[38;5;124;43m배트맨\u001b[39;49m\u001b[38;5;124;43m\"\u001b[39;49m\u001b[43m)\u001b[49m\n",
      "\u001b[1;31mValueError\u001b[0m: list.remove(x): x not in list"
     ]
    }
   ],
   "source": [
    "heros.remove(\"배트맨\")"
   ]
  },
  {
   "cell_type": "code",
   "execution_count": 34,
   "id": "2dee2dfe",
   "metadata": {},
   "outputs": [],
   "source": [
    "numbers = [123,1231,56456,1156578,56418,156,656,1684,4654468,333548] "
   ]
  },
  {
   "cell_type": "code",
   "execution_count": 35,
   "id": "5cc349b6",
   "metadata": {},
   "outputs": [
    {
     "data": {
      "text/plain": [
       "4654468"
      ]
     },
     "execution_count": 35,
     "metadata": {},
     "output_type": "execute_result"
    }
   ],
   "source": [
    "max(numbers)"
   ]
  },
  {
   "cell_type": "code",
   "execution_count": 36,
   "id": "a1579b1c",
   "metadata": {},
   "outputs": [
    {
     "data": {
      "text/plain": [
       "123"
      ]
     },
     "execution_count": 36,
     "metadata": {},
     "output_type": "execute_result"
    }
   ],
   "source": [
    "min(numbers)"
   ]
  },
  {
   "cell_type": "code",
   "execution_count": 38,
   "id": "f6c27c3e",
   "metadata": {},
   "outputs": [
    {
     "data": {
      "text/plain": [
       "6261318"
      ]
     },
     "execution_count": 38,
     "metadata": {},
     "output_type": "execute_result"
    }
   ],
   "source": [
    "sum(numbers)"
   ]
  },
  {
   "cell_type": "code",
   "execution_count": 40,
   "id": "36f09e9b",
   "metadata": {},
   "outputs": [],
   "source": [
    "#리스트를 역순으로 하고 싶다면 reverse\n",
    "numbers.reverse()"
   ]
  },
  {
   "cell_type": "code",
   "execution_count": 41,
   "id": "5a1f9025",
   "metadata": {},
   "outputs": [
    {
     "data": {
      "text/plain": [
       "[333548, 4654468, 1684, 656, 156, 56418, 1156578, 56456, 1231, 123]"
      ]
     },
     "execution_count": 41,
     "metadata": {},
     "output_type": "execute_result"
    }
   ],
   "source": [
    "numbers"
   ]
  },
  {
   "cell_type": "code",
   "execution_count": 42,
   "id": "630c7eb3",
   "metadata": {},
   "outputs": [],
   "source": [
    "numbers.sort()"
   ]
  },
  {
   "cell_type": "code",
   "execution_count": 43,
   "id": "93034a5d",
   "metadata": {},
   "outputs": [
    {
     "data": {
      "text/plain": [
       "[123, 156, 656, 1231, 1684, 56418, 56456, 333548, 1156578, 4654468]"
      ]
     },
     "execution_count": 43,
     "metadata": {},
     "output_type": "execute_result"
    }
   ],
   "source": [
    "numbers"
   ]
  },
  {
   "cell_type": "code",
   "execution_count": 44,
   "id": "56eaffcf",
   "metadata": {},
   "outputs": [],
   "source": [
    "numbers.sort(reverse=True)"
   ]
  },
  {
   "cell_type": "code",
   "execution_count": 45,
   "id": "31422f0d",
   "metadata": {},
   "outputs": [
    {
     "data": {
      "text/plain": [
       "[4654468, 1156578, 333548, 56456, 56418, 1684, 1231, 656, 156, 123]"
      ]
     },
     "execution_count": 45,
     "metadata": {},
     "output_type": "execute_result"
    }
   ],
   "source": [
    "numbers"
   ]
  },
  {
   "cell_type": "code",
   "execution_count": 47,
   "id": "43f7e1fb",
   "metadata": {},
   "outputs": [
    {
     "data": {
      "text/plain": [
       "[123, 156, 656, 1231, 1684, 56418, 56456, 333548, 1156578, 4654468]"
      ]
     },
     "execution_count": 47,
     "metadata": {},
     "output_type": "execute_result"
    }
   ],
   "source": [
    "sorted(numbers) #내장함수 sorted"
   ]
  },
  {
   "cell_type": "code",
   "execution_count": 48,
   "id": "c18ebbaf",
   "metadata": {},
   "outputs": [
    {
     "data": {
      "text/plain": [
       "3"
      ]
     },
     "execution_count": 48,
     "metadata": {},
     "output_type": "execute_result"
    }
   ],
   "source": [
    "data = ['A','B','A','C','D','A','D','D','E']\n",
    "data.count('A')"
   ]
  },
  {
   "cell_type": "code",
   "execution_count": 60,
   "id": "d3f79d87",
   "metadata": {},
   "outputs": [
    {
     "data": {
      "text/plain": [
       "94"
      ]
     },
     "execution_count": 60,
     "metadata": {},
     "output_type": "execute_result"
    }
   ],
   "source": [
    "# 리스트의 두번쨰 큰수를 찾는 거 해보기\n",
    "scores = [94,23,42,67,88,33,57,93,99,12]\n",
    "\n",
    "#scores1.sort()\n",
    "#scores1[-2]\n",
    "\n",
    "scores.sort(reverse=True)\n",
    "scores[1]\n",
    "\n",
    "\n",
    "#scores.remove(max(scores))\n",
    "#max(scores)\n"
   ]
  },
  {
   "cell_type": "code",
   "execution_count": 70,
   "id": "03e2b579",
   "metadata": {},
   "outputs": [
    {
     "data": {
      "text/plain": [
       "['A', 'a', 'B', 'b', 'C', 'c', 'D', 'd', 'E', 'e']"
      ]
     },
     "execution_count": 70,
     "metadata": {},
     "output_type": "execute_result"
    }
   ],
   "source": [
    "#슬라이싱\n",
    "numbers = [1,2,3,4,5,6,7,8,9,10]\n",
    "\n",
    "#[4,5,6]\n",
    "numbers[3:6]\n",
    "\n",
    "#[4, 5, 6, 7, 8, 9, 10]\n",
    "numbers[3:]\n",
    "\n",
    "#[2,4,6,8,10]\n",
    "numbers[1::2]\n",
    "#numbers[1:10:2]\n",
    "\n",
    "#짝수를 'a'...로 수정\n",
    "numbers[1::2] = ['a','b','c','d','e']\n",
    "numbers\n",
    "\n",
    "#홀수를 'A'...로 수정\n",
    "numbers[::2] = ['A','B','C','D','E']\n",
    "numbers\n",
    "\n"
   ]
  },
  {
   "cell_type": "code",
   "execution_count": 78,
   "id": "b3d5376e",
   "metadata": {},
   "outputs": [
    {
     "data": {
      "text/plain": [
       "[1, 2, 3, 4, 5, 6, 7, 8, 9, 10]"
      ]
     },
     "execution_count": 78,
     "metadata": {},
     "output_type": "execute_result"
    }
   ],
   "source": [
    "#range를 사용해서 쉽게 데이터 넣기\n",
    "#numbers2 = list(range(10))\n",
    "# numbers2 => [0, 1, 2, 3, 4, 5, 6, 7, 8, 9]\n",
    "numbers2 = list(range(1,11))\n",
    "numbers2\n",
    "\n",
    "#numbers3= list(range(2,101,2))\n",
    "#numbers3"
   ]
  },
  {
   "cell_type": "code",
   "execution_count": 83,
   "id": "c9f8ce47",
   "metadata": {},
   "outputs": [
    {
     "data": {
      "text/plain": [
       "7"
      ]
     },
     "execution_count": 83,
     "metadata": {},
     "output_type": "execute_result"
    }
   ],
   "source": [
    "#2차원리스트\n",
    "h = [\n",
    "    [1,2,3],\n",
    "    [4,5,6],\n",
    "    [7,8,9]\n",
    "]\n",
    "h[2][0]"
   ]
  },
  {
   "cell_type": "code",
   "execution_count": 87,
   "id": "f9957c2c",
   "metadata": {},
   "outputs": [
    {
     "name": "stdout",
     "output_type": "stream",
     "text": [
      "0:철수\n",
      "1:영희\n",
      "2:민지\n"
     ]
    }
   ],
   "source": [
    "#enumulate\n",
    "names = ['철수','영희', '민지']\n",
    "for i, n in enumerate(names):\n",
    "    print(f\"{i}:{n}\")\n"
   ]
  },
  {
   "cell_type": "markdown",
   "id": "46c82fc1",
   "metadata": {},
   "source": [
    "## Tuple"
   ]
  },
  {
   "cell_type": "code",
   "execution_count": 109,
   "id": "10df4082",
   "metadata": {},
   "outputs": [
    {
     "data": {
      "text/plain": [
       "tuple"
      ]
     },
     "execution_count": 109,
     "metadata": {},
     "output_type": "execute_result"
    }
   ],
   "source": [
    "a = (\"apple\",)\n",
    "type(a)"
   ]
  },
  {
   "cell_type": "code",
   "execution_count": 90,
   "id": "ce718164",
   "metadata": {},
   "outputs": [
    {
     "data": {
      "text/plain": [
       "(('apple', 'banana', 'grape'), tuple)"
      ]
     },
     "execution_count": 90,
     "metadata": {},
     "output_type": "execute_result"
    }
   ],
   "source": [
    "#튜플은 생성된 항목을 수정할수없다\n",
    "fruits = ('apple', 'banana','grape')\n",
    "fruits, type(fruits)"
   ]
  },
  {
   "cell_type": "code",
   "execution_count": 91,
   "id": "e99daffe",
   "metadata": {},
   "outputs": [
    {
     "data": {
      "text/plain": [
       "'apple'"
      ]
     },
     "execution_count": 91,
     "metadata": {},
     "output_type": "execute_result"
    }
   ],
   "source": [
    "fruits[0]"
   ]
  },
  {
   "cell_type": "code",
   "execution_count": 92,
   "id": "9414ffa0",
   "metadata": {},
   "outputs": [
    {
     "ename": "TypeError",
     "evalue": "'tuple' object does not support item assignment",
     "output_type": "error",
     "traceback": [
      "\u001b[1;31m---------------------------------------------------------------------------\u001b[0m",
      "\u001b[1;31mTypeError\u001b[0m                                 Traceback (most recent call last)",
      "Cell \u001b[1;32mIn[92], line 1\u001b[0m\n\u001b[1;32m----> 1\u001b[0m \u001b[43mfruits\u001b[49m\u001b[43m[\u001b[49m\u001b[38;5;241;43m0\u001b[39;49m\u001b[43m]\u001b[49m \u001b[38;5;241m=\u001b[39m \u001b[38;5;124m'\u001b[39m\u001b[38;5;124mwartermelon\u001b[39m\u001b[38;5;124m'\u001b[39m\n",
      "\u001b[1;31mTypeError\u001b[0m: 'tuple' object does not support item assignment"
     ]
    }
   ],
   "source": [
    "fruits[0] = 'wartermelon'"
   ]
  },
  {
   "cell_type": "code",
   "execution_count": 93,
   "id": "e65121a8",
   "metadata": {},
   "outputs": [],
   "source": [
    "fruits_list = list(fruits)\n",
    "fruits_list[0] = 'wartermelon'\n",
    "fruits = tuple(fruits_list)"
   ]
  },
  {
   "cell_type": "code",
   "execution_count": 94,
   "id": "110011c9",
   "metadata": {},
   "outputs": [
    {
     "data": {
      "text/plain": [
       "('wartermelon', 'banana', 'grape')"
      ]
     },
     "execution_count": 94,
     "metadata": {},
     "output_type": "execute_result"
    }
   ],
   "source": [
    "fruits"
   ]
  },
  {
   "cell_type": "code",
   "execution_count": 96,
   "id": "385f3830",
   "metadata": {},
   "outputs": [
    {
     "name": "stdout",
     "output_type": "stream",
     "text": [
      " a : wartermelon\n",
      " b : banana\n",
      " c : grape\n"
     ]
    }
   ],
   "source": [
    "#패킹 언패킹 \n",
    "(a,b,c) = fruits\n",
    "print(f\" a : {a}\")\n",
    "print(f\" b : {b}\")\n",
    "print(f\" c : {c}\")"
   ]
  },
  {
   "cell_type": "code",
   "execution_count": 98,
   "id": "1fab7384",
   "metadata": {},
   "outputs": [
    {
     "name": "stdout",
     "output_type": "stream",
     "text": [
      "wartermelon banana grape\n"
     ]
    }
   ],
   "source": [
    "#리스트도 패킹과 언패킹이 가능하다\n",
    "[a,b,c] = list(fruits)\n",
    "print(a,b,c)"
   ]
  },
  {
   "cell_type": "markdown",
   "id": "73b884c4",
   "metadata": {},
   "source": [
    "##  세트"
   ]
  },
  {
   "cell_type": "code",
   "execution_count": 99,
   "id": "465c9f13",
   "metadata": {},
   "outputs": [],
   "source": [
    "alice_hobby = {\"축구\",\"농구\",\"야구\"}\n",
    "bob_hobby = {\"배구\", \"수영\", \"농구\"}\n"
   ]
  },
  {
   "cell_type": "code",
   "execution_count": 100,
   "id": "18655f48",
   "metadata": {},
   "outputs": [
    {
     "data": {
      "text/plain": [
       "{'농구', '배구', '수영', '야구', '축구'}"
      ]
     },
     "execution_count": 100,
     "metadata": {},
     "output_type": "execute_result"
    }
   ],
   "source": [
    "alice_hobby | bob_hobby"
   ]
  },
  {
   "cell_type": "code",
   "execution_count": 102,
   "id": "1ca8f45a",
   "metadata": {},
   "outputs": [
    {
     "data": {
      "text/plain": [
       "{'농구', '배구', '수영', '야구', '축구'}"
      ]
     },
     "execution_count": 102,
     "metadata": {},
     "output_type": "execute_result"
    }
   ],
   "source": [
    "alice_hobby.union(bob_hobby)"
   ]
  },
  {
   "cell_type": "code",
   "execution_count": 103,
   "id": "c404be9f",
   "metadata": {},
   "outputs": [
    {
     "data": {
      "text/plain": [
       "{'농구'}"
      ]
     },
     "execution_count": 103,
     "metadata": {},
     "output_type": "execute_result"
    }
   ],
   "source": [
    "alice_hobby & bob_hobby"
   ]
  },
  {
   "cell_type": "code",
   "execution_count": 104,
   "id": "e414692f",
   "metadata": {},
   "outputs": [
    {
     "data": {
      "text/plain": [
       "{'야구', '축구'}"
      ]
     },
     "execution_count": 104,
     "metadata": {},
     "output_type": "execute_result"
    }
   ],
   "source": [
    "alice_hobby - bob_hobby"
   ]
  },
  {
   "cell_type": "code",
   "execution_count": 105,
   "id": "51040d51",
   "metadata": {},
   "outputs": [
    {
     "data": {
      "text/plain": [
       "{'야구', '축구'}"
      ]
     },
     "execution_count": 105,
     "metadata": {},
     "output_type": "execute_result"
    }
   ],
   "source": [
    "alice_hobby.difference(bob_hobby)"
   ]
  },
  {
   "cell_type": "code",
   "execution_count": 107,
   "id": "1f30d22c",
   "metadata": {},
   "outputs": [
    {
     "data": {
      "text/plain": [
       "{'A', 'B', 'C', 'D'}"
      ]
     },
     "execution_count": 107,
     "metadata": {},
     "output_type": "execute_result"
    }
   ],
   "source": [
    "s = set([\"A\",\"B\",\"C\",\"D\",\"A\"])\n",
    "s\n",
    "#세트는 중복된건 나오지 않는다"
   ]
  },
  {
   "cell_type": "markdown",
   "id": "b4c9b24c",
   "metadata": {},
   "source": [
    "## 딕셔너리"
   ]
  },
  {
   "cell_type": "code",
   "execution_count": 110,
   "id": "82fc34c2",
   "metadata": {},
   "outputs": [
    {
     "data": {
      "text/plain": [
       "{}"
      ]
     },
     "execution_count": 110,
     "metadata": {},
     "output_type": "execute_result"
    }
   ],
   "source": [
    "user = {}\n",
    "user"
   ]
  },
  {
   "cell_type": "code",
   "execution_count": 112,
   "id": "fc4ab468",
   "metadata": {},
   "outputs": [
    {
     "data": {
      "text/plain": [
       "{'이름': '홍길동', '나이': 22, '성별': '남자', '기술': ['파이썬', '데이터베이스'], '군대': True}"
      ]
     },
     "execution_count": 112,
     "metadata": {},
     "output_type": "execute_result"
    }
   ],
   "source": [
    "user = {\n",
    "    \"이름\" : \"홍길동\",\n",
    "    \"나이\" : 22,\n",
    "    \"성별\" : \"남자\",\n",
    "    \"기술\" : [\"파이썬\", \"데이터베이스\"],\n",
    "    \"군대\" : True\n",
    "}\n",
    "user"
   ]
  },
  {
   "cell_type": "code",
   "execution_count": 113,
   "id": "6cb2010d",
   "metadata": {},
   "outputs": [
    {
     "data": {
      "text/plain": [
       "'홍길동'"
      ]
     },
     "execution_count": 113,
     "metadata": {},
     "output_type": "execute_result"
    }
   ],
   "source": [
    "user[\"이름\"]"
   ]
  },
  {
   "cell_type": "code",
   "execution_count": 114,
   "id": "aee41e21",
   "metadata": {},
   "outputs": [
    {
     "data": {
      "text/plain": [
       "['파이썬', '데이터베이스']"
      ]
     },
     "execution_count": 114,
     "metadata": {},
     "output_type": "execute_result"
    }
   ],
   "source": [
    "user[\"기술\"]"
   ]
  },
  {
   "cell_type": "code",
   "execution_count": 115,
   "id": "5f8a0389",
   "metadata": {},
   "outputs": [
    {
     "ename": "KeyError",
     "evalue": "'체중'",
     "output_type": "error",
     "traceback": [
      "\u001b[1;31m---------------------------------------------------------------------------\u001b[0m",
      "\u001b[1;31mKeyError\u001b[0m                                  Traceback (most recent call last)",
      "Cell \u001b[1;32mIn[115], line 1\u001b[0m\n\u001b[1;32m----> 1\u001b[0m \u001b[43muser\u001b[49m\u001b[43m[\u001b[49m\u001b[38;5;124;43m\"\u001b[39;49m\u001b[38;5;124;43m체중\u001b[39;49m\u001b[38;5;124;43m\"\u001b[39;49m\u001b[43m]\u001b[49m\n",
      "\u001b[1;31mKeyError\u001b[0m: '체중'"
     ]
    }
   ],
   "source": [
    "user[\"체중\"]"
   ]
  },
  {
   "cell_type": "code",
   "execution_count": 118,
   "id": "4b1b5fd6",
   "metadata": {},
   "outputs": [
    {
     "data": {
      "text/plain": [
       "'70kg'"
      ]
     },
     "execution_count": 118,
     "metadata": {},
     "output_type": "execute_result"
    }
   ],
   "source": [
    "#찾고자 하는 키(key), 키가 없을 떄 리턴값\n",
    "user.get(\"체중\", \"70kg\")"
   ]
  },
  {
   "cell_type": "code",
   "execution_count": 119,
   "id": "6e4bef02",
   "metadata": {},
   "outputs": [
    {
     "data": {
      "text/plain": [
       "'홍길동'"
      ]
     },
     "execution_count": 119,
     "metadata": {},
     "output_type": "execute_result"
    }
   ],
   "source": [
    "user.get(\"이름\",\"김철수\")"
   ]
  },
  {
   "cell_type": "code",
   "execution_count": 120,
   "id": "b1c3c9ed",
   "metadata": {},
   "outputs": [
    {
     "data": {
      "text/plain": [
       "{'이름': '홍길동', '나이': 22, '성별': '남자', '기술': ['파이썬', '데이터베이스'], '군대': True}"
      ]
     },
     "execution_count": 120,
     "metadata": {},
     "output_type": "execute_result"
    }
   ],
   "source": [
    "user"
   ]
  },
  {
   "cell_type": "code",
   "execution_count": 122,
   "id": "a6403558",
   "metadata": {},
   "outputs": [],
   "source": [
    "user[\"체중\"]=\"80kg\""
   ]
  },
  {
   "cell_type": "code",
   "execution_count": 123,
   "id": "c486f470",
   "metadata": {},
   "outputs": [
    {
     "data": {
      "text/plain": [
       "{'이름': '홍길동',\n",
       " '나이': 22,\n",
       " '성별': '남자',\n",
       " '기술': ['파이썬', '데이터베이스'],\n",
       " '군대': True,\n",
       " '체중': '80kg'}"
      ]
     },
     "execution_count": 123,
     "metadata": {},
     "output_type": "execute_result"
    }
   ],
   "source": [
    "user"
   ]
  },
  {
   "cell_type": "code",
   "execution_count": 124,
   "id": "c2af81a4",
   "metadata": {},
   "outputs": [
    {
     "data": {
      "text/plain": [
       "{'이름': '홍길동', '나이': 22, '기술': ['파이썬', '데이터베이스'], '군대': True, '체중': '80kg'}"
      ]
     },
     "execution_count": 124,
     "metadata": {},
     "output_type": "execute_result"
    }
   ],
   "source": [
    "user.pop(\"성별\")\n",
    "user"
   ]
  },
  {
   "cell_type": "code",
   "execution_count": 126,
   "id": "088a7994",
   "metadata": {},
   "outputs": [
    {
     "ename": "KeyError",
     "evalue": "'키'",
     "output_type": "error",
     "traceback": [
      "\u001b[1;31m---------------------------------------------------------------------------\u001b[0m",
      "\u001b[1;31mKeyError\u001b[0m                                  Traceback (most recent call last)",
      "Cell \u001b[1;32mIn[126], line 1\u001b[0m\n\u001b[1;32m----> 1\u001b[0m \u001b[43muser\u001b[49m\u001b[38;5;241;43m.\u001b[39;49m\u001b[43mpop\u001b[49m\u001b[43m(\u001b[49m\u001b[38;5;124;43m\"\u001b[39;49m\u001b[38;5;124;43m키\u001b[39;49m\u001b[38;5;124;43m\"\u001b[39;49m\u001b[43m)\u001b[49m \u001b[38;5;66;03m#if \"키\" in user\u001b[39;00m\n",
      "\u001b[1;31mKeyError\u001b[0m: '키'"
     ]
    }
   ],
   "source": [
    "user.pop(\"키\") #if \"키\" in user"
   ]
  },
  {
   "cell_type": "raw",
   "id": "f0ff03a5",
   "metadata": {},
   "source": [
    "user"
   ]
  },
  {
   "cell_type": "code",
   "execution_count": 127,
   "id": "c5493bd7",
   "metadata": {},
   "outputs": [
    {
     "name": "stdout",
     "output_type": "stream",
     "text": [
      "이름\n",
      "나이\n",
      "기술\n",
      "군대\n",
      "체중\n"
     ]
    }
   ],
   "source": [
    "for key in user :\n",
    "    print(key)"
   ]
  },
  {
   "cell_type": "code",
   "execution_count": 128,
   "id": "e4f5537b",
   "metadata": {},
   "outputs": [
    {
     "data": {
      "text/plain": [
       "dict_keys(['이름', '나이', '기술', '군대', '체중'])"
      ]
     },
     "execution_count": 128,
     "metadata": {},
     "output_type": "execute_result"
    }
   ],
   "source": [
    "user.keys()"
   ]
  },
  {
   "cell_type": "code",
   "execution_count": 129,
   "id": "58bed7fe",
   "metadata": {},
   "outputs": [
    {
     "data": {
      "text/plain": [
       "dict_values(['홍길동', 22, ['파이썬', '데이터베이스'], True, '80kg'])"
      ]
     },
     "execution_count": 129,
     "metadata": {},
     "output_type": "execute_result"
    }
   ],
   "source": [
    "user.values()"
   ]
  },
  {
   "cell_type": "code",
   "execution_count": 130,
   "id": "2d5abfe5",
   "metadata": {},
   "outputs": [
    {
     "name": "stdout",
     "output_type": "stream",
     "text": [
      "k: 이름, v:홍길동\n",
      "k: 나이, v:22\n",
      "k: 기술, v:['파이썬', '데이터베이스']\n",
      "k: 군대, v:True\n",
      "k: 체중, v:80kg\n"
     ]
    }
   ],
   "source": [
    "#키와 값을 동시에 출력하고 싶다면?\n",
    "for k,v in user.items() :\n",
    "    print(f\"k: {k}, v:{v}\")"
   ]
  },
  {
   "cell_type": "code",
   "execution_count": null,
   "id": "7b4d9761",
   "metadata": {},
   "outputs": [],
   "source": []
  }
 ],
 "metadata": {
  "kernelspec": {
   "display_name": "Python 3 (ipykernel)",
   "language": "python",
   "name": "python3"
  },
  "language_info": {
   "codemirror_mode": {
    "name": "ipython",
    "version": 3
   },
   "file_extension": ".py",
   "mimetype": "text/x-python",
   "name": "python",
   "nbconvert_exporter": "python",
   "pygments_lexer": "ipython3",
   "version": "3.11.3"
  }
 },
 "nbformat": 4,
 "nbformat_minor": 5
}
