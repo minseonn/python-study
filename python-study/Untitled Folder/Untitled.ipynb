{
 "cells": [
  {
   "cell_type": "code",
   "execution_count": 1,
   "id": "a6abdbe4",
   "metadata": {},
   "outputs": [
    {
     "name": "stdout",
     "output_type": "stream",
     "text": [
      "{'a': 1, 'b': 2, 'c': 3, 'd': 4, 'e': 5, 'f': 3} <class 'dict'>\n"
     ]
    }
   ],
   "source": [
    "def print_msg(**kwargs) :\n",
    "    print(kwargs, type(kwargs))\n",
    "    \n",
    "print_msg(a=1, b=2,c=3,d=4,e=5,f=3)"
   ]
  },
  {
   "cell_type": "code",
   "execution_count": 5,
   "id": "df57166b",
   "metadata": {},
   "outputs": [
    {
     "ename": "TypeError",
     "evalue": "print_msg() takes 0 positional arguments but 7 were given",
     "output_type": "error",
     "traceback": [
      "\u001b[1;31m---------------------------------------------------------------------------\u001b[0m",
      "\u001b[1;31mTypeError\u001b[0m                                 Traceback (most recent call last)",
      "Cell \u001b[1;32mIn[5], line 5\u001b[0m\n\u001b[0;32m      2\u001b[0m     \u001b[38;5;28;01mfor\u001b[39;00m i \u001b[38;5;129;01min\u001b[39;00m args:\n\u001b[0;32m      3\u001b[0m         \u001b[38;5;28mprint\u001b[39m(i)\n\u001b[1;32m----> 5\u001b[0m \u001b[43mprint_msg\u001b[49m\u001b[43m(\u001b[49m\u001b[38;5;241;43m1\u001b[39;49m\u001b[43m,\u001b[49m\u001b[38;5;241;43m2\u001b[39;49m\u001b[43m,\u001b[49m\u001b[38;5;241;43m3\u001b[39;49m\u001b[43m,\u001b[49m\u001b[38;5;241;43m4\u001b[39;49m\u001b[43m,\u001b[49m\u001b[38;5;241;43m5\u001b[39;49m\u001b[43m,\u001b[49m\u001b[38;5;241;43m6\u001b[39;49m\u001b[43m,\u001b[49m\u001b[38;5;241;43m7\u001b[39;49m\u001b[43m)\u001b[49m\n",
      "\u001b[1;31mTypeError\u001b[0m: print_msg() takes 0 positional arguments but 7 were given"
     ]
    }
   ],
   "source": [
    "def prnit_msg(*args):\n",
    "    for i in args:\n",
    "        print(i)\n",
    "        \n",
    "print_msg(1,2,3,4,5,6,7)"
   ]
  },
  {
   "cell_type": "code",
   "execution_count": 6,
   "id": "d0ac9e29",
   "metadata": {},
   "outputs": [
    {
     "name": "stdout",
     "output_type": "stream",
     "text": [
      "(1, 2, 3, 4, 5, 6, 7) {'a': 5, 'b': 6, 'c': 7}\n"
     ]
    }
   ],
   "source": [
    "def print_msg(*args, **kwargs) :\n",
    "    print(args, kwargs)\n",
    "print_msg(1,2,3,4,5,6,7, a=5,b=6,c=7)"
   ]
  },
  {
   "cell_type": "code",
   "execution_count": 7,
   "id": "d382eaf7",
   "metadata": {},
   "outputs": [
    {
     "ename": "SyntaxError",
     "evalue": "arguments cannot follow var-keyword argument (3663324143.py, line 1)",
     "output_type": "error",
     "traceback": [
      "\u001b[1;36m  Cell \u001b[1;32mIn[7], line 1\u001b[1;36m\u001b[0m\n\u001b[1;33m    def print_msg(**kwargs, *args) :\u001b[0m\n\u001b[1;37m                            ^\u001b[0m\n\u001b[1;31mSyntaxError\u001b[0m\u001b[1;31m:\u001b[0m arguments cannot follow var-keyword argument\n"
     ]
    }
   ],
   "source": [
    "def print_msg(**kwargs, *args) :\n",
    "    print(kwargs, *rgs)\n",
    "print_msg(a=5,b=6,c=7, 1,2,3,4,5,6,7)"
   ]
  },
  {
   "cell_type": "code",
   "execution_count": 10,
   "id": "2b0562c5",
   "metadata": {},
   "outputs": [
    {
     "name": "stdout",
     "output_type": "stream",
     "text": [
      "1 2 3\n",
      "1 2 3\n"
     ]
    }
   ],
   "source": [
    "alist = [1,2,3]\n",
    "print(*alist)\n",
    "#print(1,2,3)\n",
    "\n",
    "blist = (1,2,3)\n",
    "print(*blist)"
   ]
  },
  {
   "cell_type": "code",
   "execution_count": null,
   "id": "1250c6c2",
   "metadata": {},
   "outputs": [],
   "source": []
  }
 ],
 "metadata": {
  "kernelspec": {
   "display_name": "Python 3 (ipykernel)",
   "language": "python",
   "name": "python3"
  },
  "language_info": {
   "codemirror_mode": {
    "name": "ipython",
    "version": 3
   },
   "file_extension": ".py",
   "mimetype": "text/x-python",
   "name": "python",
   "nbconvert_exporter": "python",
   "pygments_lexer": "ipython3",
   "version": "3.11.3"
  }
 },
 "nbformat": 4,
 "nbformat_minor": 5
}
