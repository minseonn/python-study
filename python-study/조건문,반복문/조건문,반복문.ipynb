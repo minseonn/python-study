{
 "cells": [
  {
   "cell_type": "markdown",
   "id": "951bdd94",
   "metadata": {},
   "source": [
    "## 반복문\n",
    "```\n",
    "if 조건식 : \n",
    "    #실행로직\n",
    "elif 조건식2 :\n",
    "    #실행로직2\n",
    "else :\n",
    "    #실행로직3\n",
    "```"
   ]
  },
  {
   "cell_type": "code",
   "execution_count": 3,
   "id": "a15e557e",
   "metadata": {},
   "outputs": [
    {
     "name": "stdout",
     "output_type": "stream",
     "text": [
      "택시타자\n"
     ]
    }
   ],
   "source": [
    "money = 17000\n",
    "\n",
    "if money> 15000 :\n",
    "    print(\"택시타자\")\n",
    "else :\n",
    "    print(\"버스타자\")"
   ]
  },
  {
   "cell_type": "code",
   "execution_count": 4,
   "id": "4f7d1cf5",
   "metadata": {},
   "outputs": [
    {
     "data": {
      "text/plain": [
       "'\\n- 사용자에게 출생년도 입력\\n    ```\\n    - 1924 가장 위대한 세대\\n    - 1925~1945  침묵세대\\n    - 1946~1964 베이비붐 세대\\n    - 1965~1980 : X세대\\n    - 1981~1996 : 밀레니얼 세대\\n    - 1997 ~ z세대\\n    ```\\n    출력 \\n    - 나는 {}년에 태어나 {}세대에 속합니다.\\n'"
      ]
     },
     "execution_count": 4,
     "metadata": {},
     "output_type": "execute_result"
    }
   ],
   "source": [
    "#실습\n",
    "'''\n",
    "- 사용자에게 출생년도 입력\n",
    "    ```\n",
    "    - 1924 가장 위대한 세대\n",
    "    - 1925~1945  침묵세대\n",
    "    - 1946~1964 베이비붐 세대\n",
    "    - 1965~1980 : X세대\n",
    "    - 1981~1996 : 밀레니얼 세대\n",
    "    - 1997 ~ z세대\n",
    "    ```\n",
    "    출력 \n",
    "    - 나는 {}년에 태어나 {}세대에 속합니다.\n",
    "'''\n"
   ]
  },
  {
   "cell_type": "code",
   "execution_count": 9,
   "id": "4533cb4f",
   "metadata": {},
   "outputs": [
    {
     "name": "stdout",
     "output_type": "stream",
     "text": [
      "출생년도를 입력학세요 :2000\n",
      "나는 2000년에 태어나 Z세대에 속합니다.\n"
     ]
    }
   ],
   "source": [
    "year = int(input(\"출생년도를 입력학세요 :\"))\n",
    "generation = \"\"\n",
    "if year <= 1924 :\n",
    "    generation = \"가장 위대한 세대\"\n",
    "elif 1925 <= year <=1945:\n",
    "    generation = \"침묵세대\"\n",
    "elif 1946 <= year <= 1964 :\n",
    "    generation = \"베이비붐 세대\"\n",
    "elif 1965 <= year <= 1980 :\n",
    "    generation = \"X세대\"\n",
    "elif 1981 <= year <= 1996 :\n",
    "    generation = \"밀레니얼 세대\"\n",
    "elif 1997<= year :\n",
    "    generation = \"Z세대\"\n",
    "    \n",
    "print(f\"나는 {year}년에 태어나 {generation}에 속합니다.\")\n",
    "    "
   ]
  },
  {
   "cell_type": "code",
   "execution_count": 10,
   "id": "1ada677f",
   "metadata": {},
   "outputs": [],
   "source": [
    "#실습\n",
    "\n",
    "# - 상품 금액 및 결제 카드를 입력\n",
    "# - 상품 금앱이 20000 초과이고 현대카드이면 배송비 3000\n",
    "# - 상품 금액이 50000 초과이거나 신한카드면 배송비 2000\n",
    "# - 그외 배송비 5000\n",
    "#- 최종적으로 상품 금액과 전체 결제 금액 출력"
   ]
  },
  {
   "cell_type": "code",
   "execution_count": 17,
   "id": "53bf5969",
   "metadata": {},
   "outputs": [
    {
     "name": "stdout",
     "output_type": "stream",
     "text": [
      "상품금액을 입력하세요 : 20000\n",
      "결제카드를 입력하세요 : 신한카드\n",
      "20000,  22000\n"
     ]
    }
   ],
   "source": [
    "price = int(input(\"상품금액을 입력하세요 : \"))\n",
    "card = str(input(\"결제카드를 입력하세요 : \"))\n",
    "shipping_cost = \"\"\n",
    "if price > 20000 and card == \"현대카드\" :\n",
    "    shipping_cost = 3000\n",
    "elif price > 50000 or card == \"신한카드\" :\n",
    "    shipping_cost = 2000\n",
    "else :\n",
    "    post = 5000\n",
    "print(f\"{price},  {price +shipping_cost}\")"
   ]
  },
  {
   "cell_type": "code",
   "execution_count": 18,
   "id": "9d5236ce",
   "metadata": {},
   "outputs": [],
   "source": [
    "#실습 ( 윤년 판단) \n",
    "\n",
    "# - 연도 입력 받기\n",
    "# - 윤년은 4로 나누어 떨어지는 해 + 중에서 100으로 나누어 떨어지지 않거나 or 400으로 나누어 떨어지는 해입니다.\n",
    "# - 출력\n",
    "# 연도를 입력하세요 : 2001\n",
    "# 2001년은 윤년이 아닙니다.\n"
   ]
  },
  {
   "cell_type": "code",
   "execution_count": 20,
   "id": "6aa07a4e",
   "metadata": {},
   "outputs": [
    {
     "name": "stdout",
     "output_type": "stream",
     "text": [
      "연도를 입력하세요 : 2023\n",
      "2023는 윤년이다.\n"
     ]
    }
   ],
   "source": [
    "put_year = int(input(\"연도를 입력하세요 : \"))\n",
    "yun = \"\"\n",
    "if (put_year % 4 ==0 and year % 100 !=0) or year % 400 == 0 :\n",
    "    print(f\"{put_year}는 윤년이다.\")\n",
    "else:\n",
    "    print(f\"{put_year}는 윤년이 아니다\")"
   ]
  },
  {
   "cell_type": "markdown",
   "id": "4e3d2fd1",
   "metadata": {},
   "source": [
    "# 반복문\n",
    "\n",
    "- 횟수 for문\n",
    "for [] in [] :\n",
    "    //실행로직\n",
    "    \n",
    "- 조건 whie문\n",
    "while 조건문:\n",
    "    //실행로직"
   ]
  },
  {
   "cell_type": "code",
   "execution_count": 22,
   "id": "1138e5f0",
   "metadata": {},
   "outputs": [
    {
     "name": "stdout",
     "output_type": "stream",
     "text": [
      "2\n",
      "4\n",
      "6\n",
      "8\n",
      "10\n",
      "12\n",
      "14\n",
      "16\n",
      "18\n",
      "20\n"
     ]
    }
   ],
   "source": [
    "for i in range(1,11):\n",
    "    print(i*2)"
   ]
  },
  {
   "cell_type": "code",
   "execution_count": 23,
   "id": "cc84f858",
   "metadata": {},
   "outputs": [
    {
     "name": "stdout",
     "output_type": "stream",
     "text": [
      "A\n",
      "B\n",
      "C\n",
      "D\n"
     ]
    }
   ],
   "source": [
    "data = [\"A\",\"B\",\"C\",\"D\"]\n",
    "\n",
    "for d in data:\n",
    "    print(d)"
   ]
  },
  {
   "cell_type": "code",
   "execution_count": 1,
   "id": "61ac85d3",
   "metadata": {},
   "outputs": [
    {
     "name": "stdout",
     "output_type": "stream",
     "text": [
      "단을 입력해주세요3\n",
      "3 x 1 = 3\n",
      "3 x 2 = 6\n",
      "3 x 3 = 9\n",
      "3 x 4 = 12\n",
      "3 x 5 = 15\n",
      "3 x 6 = 18\n",
      "3 x 7 = 21\n",
      "3 x 8 = 24\n",
      "3 x 9 = 27\n"
     ]
    }
   ],
   "source": [
    "#실습\n",
    "\n",
    "#구구단 \n",
    "#~ 몇 단을 입력받고 \n",
    "#- 구구단 진행\n",
    "\n",
    "dan = int(input(\"단을 입력해주세요\"))\n",
    "for i in range(1,10):\n",
    "    print( f\"{dan} x {i} = {dan*i}\")"
   ]
  },
  {
   "cell_type": "code",
   "execution_count": 2,
   "id": "3eb34d02",
   "metadata": {},
   "outputs": [
    {
     "name": "stdout",
     "output_type": "stream",
     "text": [
      "단을 입력해주세요5\n",
      "5*1 = 5\n",
      "5*2 = 10\n",
      "5*3 = 15\n",
      "5*4 = 20\n",
      "5*6 = 30\n",
      "5*7 = 35\n",
      "5*8 = 40\n",
      "5*9 = 45\n"
     ]
    }
   ],
   "source": [
    "#while문으로 구구단\n",
    "\n",
    "num = int(input(\"단을 입력해주세요\"))\n",
    "#i = 1\n",
    "#while i <10 :\n",
    "#    print(f\"{num} * {i} = {num*i}\")\n",
    "#    i += 1\n",
    "\n",
    "#i = 1\n",
    "#while True :\n",
    "#    print(f\"{num} * {i} = {num*i}\")\n",
    "#    i += 1\n",
    "#    if i == 10:\n",
    "#        break\n",
    "\n",
    "i=0\n",
    "while True :\n",
    "    i += 1\n",
    "    if i == 10:\n",
    "        break\n",
    "    if i == 5:\n",
    "        continue\n",
    "    print(f\"{num}*{i} = {num*i}\")"
   ]
  },
  {
   "cell_type": "code",
   "execution_count": 4,
   "id": "3d07ad85",
   "metadata": {},
   "outputs": [
    {
     "data": {
      "text/plain": [
       "1683"
      ]
     },
     "execution_count": 4,
     "metadata": {},
     "output_type": "execute_result"
    }
   ],
   "source": [
    "#1부터 100까지 3의 배수의 합\n",
    "#sum(list(range(3,101,3)))\n",
    "sum3 = 0 \n",
    "\n",
    "for n in range(1,101) :\n",
    "    if n % 3 ==0 :\n",
    "        sum3 +=n\n",
    "sum3"
   ]
  },
  {
   "cell_type": "code",
   "execution_count": 4,
   "id": "cebe48cc",
   "metadata": {},
   "outputs": [
    {
     "name": "stdout",
     "output_type": "stream",
     "text": [
      "숫자 0,1,2 중 하나를 입력하세요2\n",
      "숫자 0,1,2 중 하나를 입력하세요0\n"
     ]
    }
   ],
   "source": [
    "# 0 또는 1 또는 2 입력받고\n",
    "# 0이면 아무것도 출력하지 않고 중단\n",
    "# 1이면 '성공' 출력하고 계속\n",
    "# 2 이면 '성공' 출력하고 중단\n",
    "\n",
    "while True:\n",
    "    n = int(input(\"숫자 0,1,2 중 하나를 입력하세요\"))\n",
    "    \n",
    "    if n ==0:\n",
    "        break\n",
    "    elif n == 1:\n",
    "        print(\"성공\")\n",
    "    elif n ==2 :\n",
    "        continue"
   ]
  },
  {
   "cell_type": "code",
   "execution_count": 5,
   "id": "15bf29db",
   "metadata": {},
   "outputs": [
    {
     "data": {
      "text/plain": [
       "['a', 'b', 'c']"
      ]
     },
     "execution_count": 5,
     "metadata": {},
     "output_type": "execute_result"
    }
   ],
   "source": [
    "*a, d = ('a','b','c','d')\n",
    "a"
   ]
  },
  {
   "cell_type": "code",
   "execution_count": 12,
   "id": "67dc83d7",
   "metadata": {},
   "outputs": [],
   "source": [
    "*a, b, c = ('가','나','다', '라', '마')"
   ]
  },
  {
   "cell_type": "code",
   "execution_count": 13,
   "id": "0c3b9b63",
   "metadata": {},
   "outputs": [
    {
     "data": {
      "text/plain": [
       "['가', '나', '다']"
      ]
     },
     "execution_count": 13,
     "metadata": {},
     "output_type": "execute_result"
    }
   ],
   "source": [
    "a"
   ]
  },
  {
   "cell_type": "code",
   "execution_count": null,
   "id": "9f043327",
   "metadata": {},
   "outputs": [],
   "source": []
  }
 ],
 "metadata": {
  "kernelspec": {
   "display_name": "Python 3 (ipykernel)",
   "language": "python",
   "name": "python3"
  },
  "language_info": {
   "codemirror_mode": {
    "name": "ipython",
    "version": 3
   },
   "file_extension": ".py",
   "mimetype": "text/x-python",
   "name": "python",
   "nbconvert_exporter": "python",
   "pygments_lexer": "ipython3",
   "version": "3.11.3"
  }
 },
 "nbformat": 4,
 "nbformat_minor": 5
}
