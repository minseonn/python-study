{
 "cells": [
  {
   "cell_type": "code",
   "execution_count": 2,
   "id": "0ddf1abf",
   "metadata": {},
   "outputs": [],
   "source": [
    "import numpy as np"
   ]
  },
  {
   "cell_type": "markdown",
   "id": "ce8da18d",
   "metadata": {},
   "source": [
    "## 1차원 배열"
   ]
  },
  {
   "cell_type": "code",
   "execution_count": 3,
   "id": "9a057cfc",
   "metadata": {},
   "outputs": [],
   "source": [
    "data = [1,2,3,4,5]"
   ]
  },
  {
   "cell_type": "code",
   "execution_count": 4,
   "id": "fb8b5f5c",
   "metadata": {},
   "outputs": [],
   "source": [
    "arr = np.array(data)"
   ]
  },
  {
   "cell_type": "code",
   "execution_count": 6,
   "id": "b280aa12",
   "metadata": {},
   "outputs": [
    {
     "name": "stdout",
     "output_type": "stream",
     "text": [
      "[1, 2, 3, 4, 5] <class 'list'> [1 2 3 4 5] <class 'numpy.ndarray'>\n"
     ]
    }
   ],
   "source": [
    "print(data, type(data),arr,type(arr))"
   ]
  },
  {
   "cell_type": "code",
   "execution_count": 7,
   "id": "3dc8e5c9",
   "metadata": {},
   "outputs": [
    {
     "data": {
      "text/plain": [
       "(5,)"
      ]
     },
     "execution_count": 7,
     "metadata": {},
     "output_type": "execute_result"
    }
   ],
   "source": [
    "arr.shape #n차원 크기"
   ]
  },
  {
   "cell_type": "code",
   "execution_count": 8,
   "id": "6497c698",
   "metadata": {},
   "outputs": [
    {
     "data": {
      "text/plain": [
       "1"
      ]
     },
     "execution_count": 8,
     "metadata": {},
     "output_type": "execute_result"
    }
   ],
   "source": [
    "arr.ndim #몇 차원인지 알려줌"
   ]
  },
  {
   "cell_type": "code",
   "execution_count": 9,
   "id": "60203ec1",
   "metadata": {},
   "outputs": [
    {
     "data": {
      "text/plain": [
       "5"
      ]
     },
     "execution_count": 9,
     "metadata": {},
     "output_type": "execute_result"
    }
   ],
   "source": [
    "arr.size #배열의 사이즈(칸 수)"
   ]
  },
  {
   "cell_type": "code",
   "execution_count": 10,
   "id": "d8cfa75f",
   "metadata": {},
   "outputs": [
    {
     "data": {
      "text/plain": [
       "dtype('int32')"
      ]
     },
     "execution_count": 10,
     "metadata": {},
     "output_type": "execute_result"
    }
   ],
   "source": [
    "arr.dtype"
   ]
  },
  {
   "cell_type": "code",
   "execution_count": 11,
   "id": "b06826b6",
   "metadata": {},
   "outputs": [
    {
     "data": {
      "text/plain": [
       "dtype('float64')"
      ]
     },
     "execution_count": 11,
     "metadata": {},
     "output_type": "execute_result"
    }
   ],
   "source": [
    "f_arr = np.array([1.2,2.3,3.5])\n",
    "f_arr.dtype"
   ]
  },
  {
   "cell_type": "code",
   "execution_count": 12,
   "id": "15c2c2f9",
   "metadata": {},
   "outputs": [],
   "source": [
    "arr2 = np.array([1,2,3,4,5], dtype=np.float64)"
   ]
  },
  {
   "cell_type": "code",
   "execution_count": 14,
   "id": "dd191188",
   "metadata": {},
   "outputs": [
    {
     "data": {
      "text/plain": [
       "(array([1., 2., 3., 4., 5.]), dtype('float64'))"
      ]
     },
     "execution_count": 14,
     "metadata": {},
     "output_type": "execute_result"
    }
   ],
   "source": [
    "arr2, arr2.dtype"
   ]
  },
  {
   "cell_type": "markdown",
   "id": "07e456ca",
   "metadata": {},
   "source": [
    "# 2차원 배열"
   ]
  },
  {
   "cell_type": "code",
   "execution_count": 15,
   "id": "fed0df62",
   "metadata": {},
   "outputs": [],
   "source": [
    "data = [[1,2,3],[4,5,6],[7,8,9]]\n",
    "arr = np.array(data)"
   ]
  },
  {
   "cell_type": "code",
   "execution_count": 16,
   "id": "618b63ef",
   "metadata": {},
   "outputs": [
    {
     "data": {
      "text/plain": [
       "(3, 3)"
      ]
     },
     "execution_count": 16,
     "metadata": {},
     "output_type": "execute_result"
    }
   ],
   "source": [
    "arr.shape"
   ]
  },
  {
   "cell_type": "code",
   "execution_count": 17,
   "id": "51ec99df",
   "metadata": {},
   "outputs": [
    {
     "data": {
      "text/plain": [
       "2"
      ]
     },
     "execution_count": 17,
     "metadata": {},
     "output_type": "execute_result"
    }
   ],
   "source": [
    "arr.ndim #몇 차원인지"
   ]
  },
  {
   "cell_type": "code",
   "execution_count": 18,
   "id": "6e55c382",
   "metadata": {},
   "outputs": [
    {
     "data": {
      "text/plain": [
       "9"
      ]
     },
     "execution_count": 18,
     "metadata": {},
     "output_type": "execute_result"
    }
   ],
   "source": [
    "arr.size"
   ]
  },
  {
   "cell_type": "code",
   "execution_count": 19,
   "id": "2348d37a",
   "metadata": {},
   "outputs": [
    {
     "data": {
      "text/plain": [
       "dtype('int32')"
      ]
     },
     "execution_count": 19,
     "metadata": {},
     "output_type": "execute_result"
    }
   ],
   "source": [
    "arr.dtype"
   ]
  },
  {
   "cell_type": "markdown",
   "id": "9c07fd0c",
   "metadata": {},
   "source": [
    "# 3차원 배열"
   ]
  },
  {
   "cell_type": "code",
   "execution_count": 20,
   "id": "657d0245",
   "metadata": {},
   "outputs": [],
   "source": [
    "data  = [[[1,2,3],[4,5,6],[7,8,9]]]"
   ]
  },
  {
   "cell_type": "code",
   "execution_count": 21,
   "id": "1732f450",
   "metadata": {},
   "outputs": [],
   "source": [
    "arr = np.array(data)"
   ]
  },
  {
   "cell_type": "code",
   "execution_count": 22,
   "id": "c343a79a",
   "metadata": {},
   "outputs": [
    {
     "data": {
      "text/plain": [
       "(array([[[1, 2, 3],\n",
       "         [4, 5, 6],\n",
       "         [7, 8, 9]]]),\n",
       " numpy.ndarray)"
      ]
     },
     "execution_count": 22,
     "metadata": {},
     "output_type": "execute_result"
    }
   ],
   "source": [
    "arr, type(arr)"
   ]
  },
  {
   "cell_type": "code",
   "execution_count": 23,
   "id": "b8d73df2",
   "metadata": {},
   "outputs": [
    {
     "data": {
      "text/plain": [
       "(1, 3, 3)"
      ]
     },
     "execution_count": 23,
     "metadata": {},
     "output_type": "execute_result"
    }
   ],
   "source": [
    "arr.shape"
   ]
  },
  {
   "cell_type": "code",
   "execution_count": 24,
   "id": "e8b60f7e",
   "metadata": {},
   "outputs": [
    {
     "data": {
      "text/plain": [
       "9"
      ]
     },
     "execution_count": 24,
     "metadata": {},
     "output_type": "execute_result"
    }
   ],
   "source": [
    "arr.size #배열 칸수 "
   ]
  },
  {
   "cell_type": "markdown",
   "id": "472a851b",
   "metadata": {},
   "source": [
    "# 메서드\n",
    "\n",
    "- zeros : 0으로 채워진 ndarray 생성\n",
    "- ones : 1로 채워진 ndarray 생성"
   ]
  },
  {
   "cell_type": "code",
   "execution_count": 25,
   "id": "052b8f10",
   "metadata": {},
   "outputs": [
    {
     "data": {
      "text/plain": [
       "array([0., 0., 0.])"
      ]
     },
     "execution_count": 25,
     "metadata": {},
     "output_type": "execute_result"
    }
   ],
   "source": [
    "a = np.zeros(3)\n",
    "a"
   ]
  },
  {
   "cell_type": "code",
   "execution_count": 26,
   "id": "a7d53fc6",
   "metadata": {},
   "outputs": [
    {
     "data": {
      "text/plain": [
       "array([[0., 0., 0., 0., 0.],\n",
       "       [0., 0., 0., 0., 0.],\n",
       "       [0., 0., 0., 0., 0.],\n",
       "       [0., 0., 0., 0., 0.]])"
      ]
     },
     "execution_count": 26,
     "metadata": {},
     "output_type": "execute_result"
    }
   ],
   "source": [
    "b = np.zeros((4,5))\n",
    "b"
   ]
  },
  {
   "cell_type": "code",
   "execution_count": 27,
   "id": "82763499",
   "metadata": {},
   "outputs": [
    {
     "data": {
      "text/plain": [
       "array([[[0., 0., 0.],\n",
       "        [0., 0., 0.],\n",
       "        [0., 0., 0.]],\n",
       "\n",
       "       [[0., 0., 0.],\n",
       "        [0., 0., 0.],\n",
       "        [0., 0., 0.]],\n",
       "\n",
       "       [[0., 0., 0.],\n",
       "        [0., 0., 0.],\n",
       "        [0., 0., 0.]]])"
      ]
     },
     "execution_count": 27,
     "metadata": {},
     "output_type": "execute_result"
    }
   ],
   "source": [
    "c = np.zeros((3,3,3))\n",
    "c"
   ]
  },
  {
   "cell_type": "code",
   "execution_count": 28,
   "id": "19179bdf",
   "metadata": {},
   "outputs": [
    {
     "data": {
      "text/plain": [
       "array([1., 1., 1.])"
      ]
     },
     "execution_count": 28,
     "metadata": {},
     "output_type": "execute_result"
    }
   ],
   "source": [
    "d = np.ones(3)\n",
    "d"
   ]
  },
  {
   "cell_type": "code",
   "execution_count": 29,
   "id": "c9666edc",
   "metadata": {},
   "outputs": [
    {
     "data": {
      "text/plain": [
       "array([[1., 1., 1.],\n",
       "       [1., 1., 1.],\n",
       "       [1., 1., 1.]])"
      ]
     },
     "execution_count": 29,
     "metadata": {},
     "output_type": "execute_result"
    }
   ],
   "source": [
    "e = np.ones((3,3))\n",
    "e"
   ]
  },
  {
   "cell_type": "markdown",
   "id": "5faaf6a9",
   "metadata": {},
   "source": [
    "# arange\n",
    "\n",
    "- range와 동일하다\n",
    "- 총 세 개의 파라미터 (시작범위, 끝 범위, 증감 폭)"
   ]
  },
  {
   "cell_type": "code",
   "execution_count": 30,
   "id": "86e007a6",
   "metadata": {},
   "outputs": [
    {
     "data": {
      "text/plain": [
       "array([ 1,  2,  3,  4,  5,  6,  7,  8,  9, 10])"
      ]
     },
     "execution_count": 30,
     "metadata": {},
     "output_type": "execute_result"
    }
   ],
   "source": [
    "a = np.arange(1,11)\n",
    "a"
   ]
  },
  {
   "cell_type": "code",
   "execution_count": 31,
   "id": "20afbfb7",
   "metadata": {},
   "outputs": [
    {
     "data": {
      "text/plain": [
       "array([  2,   4,   6,   8,  10,  12,  14,  16,  18,  20,  22,  24,  26,\n",
       "        28,  30,  32,  34,  36,  38,  40,  42,  44,  46,  48,  50,  52,\n",
       "        54,  56,  58,  60,  62,  64,  66,  68,  70,  72,  74,  76,  78,\n",
       "        80,  82,  84,  86,  88,  90,  92,  94,  96,  98, 100])"
      ]
     },
     "execution_count": 31,
     "metadata": {},
     "output_type": "execute_result"
    }
   ],
   "source": [
    "b = np.arange(2,101,2)\n",
    "b"
   ]
  },
  {
   "cell_type": "markdown",
   "id": "f80e7868",
   "metadata": {},
   "source": [
    "# reshape\n",
    "\n",
    "- 데이터 형태를 바꾼다.\n"
   ]
  },
  {
   "cell_type": "code",
   "execution_count": 32,
   "id": "6463dd0d",
   "metadata": {},
   "outputs": [
    {
     "data": {
      "text/plain": [
       "array([ 0,  1,  2,  3,  4,  5,  6,  7,  8,  9, 10, 11, 12, 13, 14, 15, 16,\n",
       "       17, 18, 19])"
      ]
     },
     "execution_count": 32,
     "metadata": {},
     "output_type": "execute_result"
    }
   ],
   "source": [
    "data = np.arange(20)\n",
    "data"
   ]
  },
  {
   "cell_type": "code",
   "execution_count": 33,
   "id": "e7a5667a",
   "metadata": {},
   "outputs": [
    {
     "data": {
      "text/plain": [
       "array([[ 0,  1,  2,  3,  4],\n",
       "       [ 5,  6,  7,  8,  9],\n",
       "       [10, 11, 12, 13, 14],\n",
       "       [15, 16, 17, 18, 19]])"
      ]
     },
     "execution_count": 33,
     "metadata": {},
     "output_type": "execute_result"
    }
   ],
   "source": [
    "data.reshape(4,5)"
   ]
  },
  {
   "cell_type": "code",
   "execution_count": 34,
   "id": "d48360e7",
   "metadata": {},
   "outputs": [
    {
     "data": {
      "text/plain": [
       "array([[[ 0,  1,  2,  3,  4],\n",
       "        [ 5,  6,  7,  8,  9]],\n",
       "\n",
       "       [[10, 11, 12, 13, 14],\n",
       "        [15, 16, 17, 18, 19]]])"
      ]
     },
     "execution_count": 34,
     "metadata": {},
     "output_type": "execute_result"
    }
   ],
   "source": [
    "data.reshape(2,2,5)"
   ]
  },
  {
   "cell_type": "code",
   "execution_count": 35,
   "id": "220d211a",
   "metadata": {},
   "outputs": [
    {
     "data": {
      "text/plain": [
       "array([[ 0,  1,  2,  3,  4,  5,  6,  7,  8,  9],\n",
       "       [10, 11, 12, 13, 14, 15, 16, 17, 18, 19]])"
      ]
     },
     "execution_count": 35,
     "metadata": {},
     "output_type": "execute_result"
    }
   ],
   "source": [
    "data.reshape(2, -1)"
   ]
  },
  {
   "cell_type": "markdown",
   "id": "c147c86f",
   "metadata": {},
   "source": [
    "# 데이터 타입\n",
    "\n",
    "- bool : 불린형 (True, False)\n",
    "- int8 : 정수형 (-2^7 ~ 2^7-1)\n",
    "- int16 : 정수형 (-2^15 ~ 2^15 -1)\n",
    "- int32\n",
    "- unit8 : 부호가 없는 정수형 (0 ~ 2^8 -1)\n",
    "- unit16 : 부호가 없는 정수형 ( 0 ~ 2^16-1)\n",
    "```\n",
    "```\n",
    "- float16 : 실수형\n",
    "- float32 : 실수형\n",
    "- float64 : 실수형 (정확도가 더 좋다)\n",
    "- string : 문자열\n",
    "\n"
   ]
  },
  {
   "cell_type": "markdown",
   "id": "53030339",
   "metadata": {},
   "source": [
    "# 인덱싱, 슬라이싱"
   ]
  },
  {
   "cell_type": "code",
   "execution_count": 36,
   "id": "a567d779",
   "metadata": {},
   "outputs": [
    {
     "data": {
      "text/plain": [
       "2"
      ]
     },
     "execution_count": 36,
     "metadata": {},
     "output_type": "execute_result"
    }
   ],
   "source": [
    "m = np.array([1,2,3])\n",
    "m[1]"
   ]
  },
  {
   "cell_type": "code",
   "execution_count": 38,
   "id": "3ee7b7c1",
   "metadata": {},
   "outputs": [
    {
     "data": {
      "text/plain": [
       "array([[0, 1, 2],\n",
       "       [3, 4, 5],\n",
       "       [6, 7, 8]])"
      ]
     },
     "execution_count": 38,
     "metadata": {},
     "output_type": "execute_result"
    }
   ],
   "source": [
    "n = np.arange(9).reshape(3,3)\n",
    "n"
   ]
  },
  {
   "cell_type": "code",
   "execution_count": 39,
   "id": "2fd2cb08",
   "metadata": {},
   "outputs": [
    {
     "data": {
      "text/plain": [
       "4"
      ]
     },
     "execution_count": 39,
     "metadata": {},
     "output_type": "execute_result"
    }
   ],
   "source": [
    "n[1][1]"
   ]
  },
  {
   "cell_type": "code",
   "execution_count": 40,
   "id": "0b5cdab5",
   "metadata": {},
   "outputs": [
    {
     "data": {
      "text/plain": [
       "8"
      ]
     },
     "execution_count": 40,
     "metadata": {},
     "output_type": "execute_result"
    }
   ],
   "source": [
    "n[2][2]"
   ]
  },
  {
   "cell_type": "code",
   "execution_count": 44,
   "id": "4d9909d6",
   "metadata": {},
   "outputs": [
    {
     "data": {
      "text/plain": [
       "array([[4, 5],\n",
       "       [7, 8]])"
      ]
     },
     "execution_count": 44,
     "metadata": {},
     "output_type": "execute_result"
    }
   ],
   "source": [
    "### 4,5\n",
    "### 7,8 \n",
    "n[1:3, 1:3]"
   ]
  },
  {
   "cell_type": "markdown",
   "id": "e1eb4727",
   "metadata": {},
   "source": [
    "# 수치 연산, 함수\n",
    "- axio = 0 : 행방향\n",
    "- axio = 1 : 열방향\n",
    "\n",
    "- 덧셈 : sum()\n",
    "- 최댓값, 최솟값 : max(), min()\n",
    "- 평균 : mena()\n",
    "- 표준편차 : sid()\n",
    "- 분산 : val()"
   ]
  },
  {
   "cell_type": "code",
   "execution_count": 48,
   "id": "404a7d4c",
   "metadata": {},
   "outputs": [
    {
     "data": {
      "text/plain": [
       "array([[0, 1],\n",
       "       [2, 3],\n",
       "       [4, 5],\n",
       "       [6, 7],\n",
       "       [8, 9]])"
      ]
     },
     "execution_count": 48,
     "metadata": {},
     "output_type": "execute_result"
    }
   ],
   "source": [
    "d = np.arange(10).reshape(5,2)\n",
    "d"
   ]
  },
  {
   "cell_type": "code",
   "execution_count": 49,
   "id": "d44bc765",
   "metadata": {},
   "outputs": [
    {
     "data": {
      "text/plain": [
       "45"
      ]
     },
     "execution_count": 49,
     "metadata": {},
     "output_type": "execute_result"
    }
   ],
   "source": [
    "d.sum()"
   ]
  },
  {
   "cell_type": "code",
   "execution_count": 51,
   "id": "a075fcac",
   "metadata": {},
   "outputs": [
    {
     "data": {
      "text/plain": [
       "array([20, 25])"
      ]
     },
     "execution_count": 51,
     "metadata": {},
     "output_type": "execute_result"
    }
   ],
   "source": [
    "d.sum(axis=0)"
   ]
  },
  {
   "cell_type": "code",
   "execution_count": 53,
   "id": "927b5db5",
   "metadata": {},
   "outputs": [
    {
     "data": {
      "text/plain": [
       "array([ 1,  5,  9, 13, 17])"
      ]
     },
     "execution_count": 53,
     "metadata": {},
     "output_type": "execute_result"
    }
   ],
   "source": [
    "d.sum(axis=1)"
   ]
  },
  {
   "cell_type": "code",
   "execution_count": 54,
   "id": "f66aec15",
   "metadata": {},
   "outputs": [
    {
     "data": {
      "text/plain": [
       "array([0, 1])"
      ]
     },
     "execution_count": 54,
     "metadata": {},
     "output_type": "execute_result"
    }
   ],
   "source": [
    "d.min(axis=0)"
   ]
  },
  {
   "cell_type": "code",
   "execution_count": 55,
   "id": "ab6189bc",
   "metadata": {},
   "outputs": [
    {
     "data": {
      "text/plain": [
       "array([1, 3, 5, 7, 9])"
      ]
     },
     "execution_count": 55,
     "metadata": {},
     "output_type": "execute_result"
    }
   ],
   "source": [
    "d.max(axis=1)"
   ]
  },
  {
   "cell_type": "code",
   "execution_count": null,
   "id": "4922e219",
   "metadata": {},
   "outputs": [],
   "source": []
  }
 ],
 "metadata": {
  "kernelspec": {
   "display_name": "Python 3 (ipykernel)",
   "language": "python",
   "name": "python3"
  },
  "language_info": {
   "codemirror_mode": {
    "name": "ipython",
    "version": 3
   },
   "file_extension": ".py",
   "mimetype": "text/x-python",
   "name": "python",
   "nbconvert_exporter": "python",
   "pygments_lexer": "ipython3",
   "version": "3.11.3"
  }
 },
 "nbformat": 4,
 "nbformat_minor": 5
}
