{
 "cells": [
  {
   "cell_type": "raw",
   "id": "3cd8289d",
   "metadata": {},
   "source": [
    "큰 제목을 작성하기 위해서는 \n",
    "글 하단에 =====\n",
    "실행하려면 shift + enter"
   ]
  },
  {
   "cell_type": "markdown",
   "id": "93c94897",
   "metadata": {},
   "source": [
    "큰 제목\n",
    "==="
   ]
  },
  {
   "cell_type": "code",
   "execution_count": null,
   "id": "2360422f",
   "metadata": {},
   "outputs": [],
   "source": [
    "작은 제목을 작성하기 위해서는\n",
    "글 하단에 -----\n"
   ]
  },
  {
   "cell_type": "markdown",
   "id": "6a585146",
   "metadata": {},
   "source": [
    "작은 제목\n",
    "------"
   ]
  },
  {
   "cell_type": "raw",
   "id": "bc9b2d00",
   "metadata": {},
   "source": [
    "h1: #\n",
    "h2 : ##\n",
    "h3 : ###\n",
    "...\n",
    "\n",
    "h6 : ######"
   ]
  },
  {
   "cell_type": "markdown",
   "id": "eb3c779b",
   "metadata": {},
   "source": [
    "# H1"
   ]
  },
  {
   "cell_type": "markdown",
   "id": "c856be77",
   "metadata": {},
   "source": [
    "# h1\n",
    "## h2\n",
    "### h3\n",
    "#### h4\n",
    "##### h5"
   ]
  },
  {
   "cell_type": "raw",
   "id": "906e8a43",
   "metadata": {},
   "source": [
    "//블럭 인용\n",
    "\n",
    "> 글자\n",
    "(탭) >> 글자\n"
   ]
  },
  {
   "cell_type": "markdown",
   "id": "f58c325d",
   "metadata": {},
   "source": [
    "> 안쪽 블럭 인용\n",
    "    >> 두번째 블럭 인용\n",
    "        >>> 세번째 블럭인용"
   ]
  },
  {
   "cell_type": "raw",
   "id": "eab0a5fd",
   "metadata": {},
   "source": [
    "//강조\n",
    "사과\n",
    "** 사과 ** "
   ]
  },
  {
   "cell_type": "markdown",
   "id": "2276af91",
   "metadata": {},
   "source": [
    "사과 **사과**"
   ]
  },
  {
   "cell_type": "raw",
   "id": "6c37d82a",
   "metadata": {},
   "source": [
    "// 취소선\n",
    "\n",
    "수박 \n",
    "~~ 수박 ~~"
   ]
  },
  {
   "cell_type": "markdown",
   "id": "264062dc",
   "metadata": {},
   "source": [
    "수박 ~~수박~~"
   ]
  },
  {
   "cell_type": "raw",
   "id": "23791431",
   "metadata": {},
   "source": [
    "//목록\n",
    "\n",
    "순서 있는 목록 \n",
    "1. 글\n",
    "2. 글\n",
    "3. 글\n",
    "\n",
    "순서 없는 목록 (+, *, -) : 다 똑같다\n",
    "* 글\n",
    "+ 글\n",
    "- 글"
   ]
  },
  {
   "cell_type": "markdown",
   "id": "354c9e4c",
   "metadata": {},
   "source": [
    "1. 첫 번째\n",
    "2. 두 번째\n",
    "3. 세 번째"
   ]
  },
  {
   "cell_type": "markdown",
   "id": "3c0dd159",
   "metadata": {},
   "source": [
    "* 목록1 \n",
    "    + 목록 1-1\n",
    "    + 목록 1-2\n",
    "- 목록2\n",
    "    + 목록 2-1\n",
    "    * 목록 2-2"
   ]
  },
  {
   "cell_type": "raw",
   "id": "9b85657a",
   "metadata": {},
   "source": [
    "//이미지 올리기\n",
    "\n",
    "! [대체 텍스트] (이미지 경로) -> \"\" 안쓴다!\n",
    "<img src = \"이미지 경로\" /> -> 사이즈를 조절하고 싶다면 이렇게 쓰기"
   ]
  },
  {
   "cell_type": "markdown",
   "id": "9e388fa4",
   "metadata": {},
   "source": [
    "![카카오](kakao.jpg)"
   ]
  },
  {
   "cell_type": "markdown",
   "id": "3b362004",
   "metadata": {},
   "source": [
    "<img src = \"kakao.jpg\" width= \"300px\" height =\"300px\" />"
   ]
  },
  {
   "cell_type": "raw",
   "id": "dcecdd3f",
   "metadata": {},
   "source": [
    "// 코드블럭 넣기\n",
    "\n",
    "``` 코드작성 ```\n",
    "\n",
    "```언어 이름\n",
    "코드작성\n",
    "``` -> 색도 넣어진다.\n",
    "\n",
    "<pre>\n",
    "    <code>\n",
    "        코드작성\n",
    "    </code>\n",
    "</pre>"
   ]
  },
  {
   "cell_type": "markdown",
   "id": "5963b7e1",
   "metadata": {},
   "source": [
    "이건 파이썬 코드입니다.   \n",
    "```\n",
    "def get_name() :\n",
    "    print(\"hello\")\n",
    "```\n",
    "        \n",
    "코드 완성!"
   ]
  },
  {
   "cell_type": "markdown",
   "id": "4c6e03d6",
   "metadata": {},
   "source": [
    "이건 파이썬 코드입니다.\n",
    "```python\n",
    "def get_name() :\n",
    "    print(\"hello\")\n",
    "    \n",
    "```"
   ]
  },
  {
   "cell_type": "markdown",
   "id": "eb1f076c",
   "metadata": {},
   "source": [
    "이건 자바스크립트 코드입니다.\n",
    "```javascript\n",
    "function get_name() :\n",
    "    console.log(\"hello\")\n",
    "```"
   ]
  },
  {
   "cell_type": "raw",
   "id": "56602b4f",
   "metadata": {},
   "source": [
    "// 수평선\n",
    "\n",
    " * * *\n",
    " \n",
    " ***\n",
    " \n",
    " - - -\n",
    " \n",
    " ---"
   ]
  },
  {
   "cell_type": "markdown",
   "id": "acc74e45",
   "metadata": {},
   "source": [
    "* * * \n",
    "***\n",
    "- - -\n",
    "---"
   ]
  },
  {
   "cell_type": "raw",
   "id": "313484bb",
   "metadata": {},
   "source": [
    "//링크\n",
    "[제목](링크경로)"
   ]
  },
  {
   "cell_type": "markdown",
   "id": "30b56570",
   "metadata": {},
   "source": [
    "[Google](http://google.com)   \n",
    "[나의 깃헙](https://github.com/minseonn/portfolio)"
   ]
  },
  {
   "cell_type": "raw",
   "id": "4986500f",
   "metadata": {},
   "source": [
    "// 자동링크\n",
    "\n",
    "www.naver.com\n",
    "hong@gmail.com"
   ]
  },
  {
   "cell_type": "markdown",
   "id": "20d26398",
   "metadata": {},
   "source": [
    "구글주소 : http://naver.com   \n",
    "나의 이메일 : minseonnn@naver.com"
   ]
  },
  {
   "cell_type": "markdown",
   "id": "64e593b4",
   "metadata": {},
   "source": [
    "이력서\n",
    "===\n",
    "\n",
    "부제목\n",
    "---\n",
    "\n",
    "## 목차\n",
    "1. [성장과정](#1.-성장과정)\n",
    "    +1-1. 초등학교\n",
    "    -1-2. 중학교\n",
    "    -1-3, 고등학교\n",
    "2. [나의 스킬](#2.-나의-스킬)\n",
    "    -2-1. 코딩\n",
    "    -2-2. 데이터 베이스\n",
    "3. 목표\n",
    "\n",
    "## 1. 성장과정\n",
    "\n",
    "#### 1-1. 초등학교\n",
    "나는 ㅁㄴ앙ㄴㅁ엄낭ㄴㅇㅁ니;ㅏㄴ아;ㅣ아;ㅁ낭;니집에걱ㅎㅈ방ㅁㄴ;ㅣㅇ\n",
    "#### 1-2. 중학교\n",
    "ㄴㅇㄴㅁㅇ\n",
    "#### 1-3. 고등학교\n",
    "ㅁㄴㅇㄴㅇㅇ\n",
    "\n",
    "## 2. 나의 스킬\n",
    "    - 2-1. 코딩\n",
    "    + 2-2. 데이터베이스\n",
    "\n",
    "## 3. 목표\n"
   ]
  },
  {
   "cell_type": "code",
   "execution_count": null,
   "id": "4f720697",
   "metadata": {},
   "outputs": [],
   "source": []
  },
  {
   "cell_type": "code",
   "execution_count": null,
   "id": "dcbf2a8d",
   "metadata": {},
   "outputs": [],
   "source": []
  }
 ],
 "metadata": {
  "kernelspec": {
   "display_name": "Python 3 (ipykernel)",
   "language": "python",
   "name": "python3"
  },
  "language_info": {
   "codemirror_mode": {
    "name": "ipython",
    "version": 3
   },
   "file_extension": ".py",
   "mimetype": "text/x-python",
   "name": "python",
   "nbconvert_exporter": "python",
   "pygments_lexer": "ipython3",
   "version": "3.11.3"
  }
 },
 "nbformat": 4,
 "nbformat_minor": 5
}
